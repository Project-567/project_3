{
 "cells": [
  {
   "cell_type": "markdown",
   "metadata": {},
   "source": [
    "# Invader Defender "
   ]
  },
  {
   "cell_type": "code",
   "execution_count": 1,
   "metadata": {},
   "outputs": [],
   "source": [
    "import numpy as np\n",
    "import matplotlib.pyplot as plt\n",
    "from IPython.display import display, clear_output\n",
    "import pickle\n",
    "from scipy.optimize import linprog\n",
    "import pandas as pd\n",
    "import time\n",
    "import random\n",
    "\n",
    "# to remove warnings\n",
    "import warnings\n",
    "warnings.filterwarnings('ignore')"
   ]
  },
  {
   "cell_type": "code",
   "execution_count": 2,
   "metadata": {},
   "outputs": [],
   "source": [
    "actions = [[-1, 0], [0, 1], [1, 0], [0, -1]] #up, right, down, left = (clockwise from up) \n",
    "action_count = len(actions) \n",
    "gridSize = 6 \n",
    "state_count = gridSize*gridSize"
   ]
  },
  {
   "cell_type": "code",
   "execution_count": 3,
   "metadata": {},
   "outputs": [],
   "source": [
    "class Invader_Defender():\n",
    "    def __init__(self, gridSize):\n",
    "        self.valueMap = np.zeros((gridSize, gridSize))\n",
    "        self.states = [[i, j] for i in range(gridSize) for j in range(gridSize)]\n",
    "        self.size = gridSize\n",
    "        \n",
    "        # deterministic transition ?\n",
    "        self.transition_prob = 1 \n",
    "        \n",
    "        # initialize defender and invader states\n",
    "        self.new_state = [0, 0, 0, 0]\n",
    "        self.new_defender_state = [0, 0]\n",
    "        self.new_invader_state = [0, 0]\n",
    "        \n",
    "        # set territory state\n",
    "        self.territory_state = [4, 4]\n",
    "\n",
    "        # create a list of all possible states in the game\n",
    "        self.game_state_list = []\n",
    "        for defender_state in self.states:\n",
    "            for invader_state in self.states:\n",
    "                combined_states = tuple(defender_state + invader_state)\n",
    "                self.game_state_list.append(combined_states)\n",
    "        \n",
    "        # create 2 lists of states representing defender and invader victory\n",
    "        self.defender_won = []\n",
    "        self.invader_won = []\n",
    "        \n",
    "        # create states representing defender victory\n",
    "        for defender_state in self.states:\n",
    "            for invader_state in self.states:\n",
    "                distance = np.linalg.norm(np.array(defender_state) - np.array(invader_state))\n",
    "                # if the invader is not at territory and within the capture range of defender = defender won\n",
    "                if invader_state != self.territory_state and distance <= np.sqrt(2):\n",
    "                    combined_states = defender_state + invader_state\n",
    "                    self.defender_won.append(combined_states)\n",
    "           \n",
    "        # create states representing invader victory = anytime invader is at territory\n",
    "        for defender_state in self.states:               \n",
    "            combined_states = defender_state + self.territory_state\n",
    "            self.invader_won.append(combined_states)\n",
    "    \n",
    "    def possible_states(self):\n",
    "        \"\"\"\n",
    "        A function that returns a list of all possible states in the game\n",
    "        \"\"\"\n",
    "        return self.game_state_list\n",
    "    \n",
    "    def terminal_check(self, state):\n",
    "        \"\"\"\n",
    "        A function that checks whether the game is at a terminal state.\n",
    "        Terminal state happens when either the invader or defender has won.\n",
    "        \"\"\"\n",
    "        if state in self.defender_won:\n",
    "            status = \"Defender Won\"\n",
    "            terminal_check = True\n",
    "        elif state in self.invader_won:\n",
    "            status = \"Invader Won\"\n",
    "            terminal_check = True\n",
    "        else:\n",
    "            terminal_check = False\n",
    "            status = \"Game in Progress\"\n",
    "\n",
    "        return terminal_check, status\n",
    "    \n",
    "#     def transition_probability(self, transition):\n",
    "#         \"\"\"\n",
    "#         A function that returns the transition probability...?\n",
    "#         \"\"\"\n",
    "#         return self.transition_prob, reward\n",
    "\n",
    "    def next_state(self, current_state, defender_action, invader_action):\n",
    "        \"\"\"\n",
    "        A function that returns the next state\n",
    "        Input: current state [0,0] , defender_action [0, 1], invader_action [0,-1]\n",
    "        Output: next state array([x1,y1,x2,y2]) and reward (int)\n",
    "            - If the action takes the agent off grid, the agent remains in original state\n",
    "            - If defender won, reward is calculated based on manhattan distance between invader captured state\n",
    "            and territory\n",
    "            - If defender loss, reward is -100\n",
    "        \"\"\"\n",
    "        defender_state = []\n",
    "        invader_state = []\n",
    "        \n",
    "        # deconstruct current state [0,0,1,1] in to defender [0,0] and invader [1,1] state\n",
    "        for i in range(4):\n",
    "            if i < 2:\n",
    "                defender_state.append(current_state[i])\n",
    "            else:\n",
    "                invader_state.append(current_state[i])\n",
    "                \n",
    "        # get next state: state: [0, 0], action: [0, 1], new_state = [0, 1]\n",
    "        self.new_defender_state = list(np.array(defender_state) + np.array(defender_action))\n",
    "        self.new_invader_state = list(np.array(invader_state) + np.array(invader_action))\n",
    "\n",
    "        # if new defender states results in off the grid, return to original state\n",
    "        if -1 in self.new_defender_state or self.size in self.new_defender_state:\n",
    "            self.new_defender_state = defender_state\n",
    "        \n",
    "        # if new invader states results in off the grid, return to original state\n",
    "        if -1 in self.new_invader_state or self.size in self.new_invader_state:\n",
    "            self.new_invader_state = invader_state\n",
    "       \n",
    "        # combine the defender and invader state\n",
    "        self.new_state = self.new_defender_state\n",
    "        self.new_state.extend(self.new_invader_state)\n",
    "                  \n",
    "        # new rewards: penalizing defender for every step that invader takes closer to territory\n",
    "        terminal, status = self.terminal_check(self.new_state)\n",
    "        if terminal == True:\n",
    "            if status == \"Defender Won\":\n",
    "                # defender reward if defender won (manhattan distance between invader captured state and territory)\n",
    "                distance_to_territory = sum(abs(np.array(self.new_invader_state) - np.array(self.territory_state)))\n",
    "                self.reward = distance_to_territory\n",
    "            else:\n",
    "                # defender reward if invader won\n",
    "                self.reward = -100\n",
    "        else:\n",
    "            # penalize defender for every step that invader takes closer to territory\n",
    "            #invader_to_territory = sum(abs(np.array(self.new_invader_state) - np.array(self.territory_state)))\n",
    "            #reward_1 = -(8 - invader_to_territory)\n",
    "            \n",
    "            #reward defender for keeping T safe\n",
    "            reward_1 = 1\n",
    "          \n",
    "            # give defender reward for every step it takes closer to invader\n",
    "            #new_defender_state = [self.new_defender_state[0], self.new_defender_state[1]]\n",
    "            #defender_to_invader = sum(abs(np.array(self.new_invader_state) - np.array(new_defender_state)))\n",
    "            #reward_2 = (5 - defender_to_invader)\n",
    "            \n",
    "            #self.reward = reward_1 + reward_2\n",
    "            \n",
    "            self.reward = reward_1\n",
    "            \n",
    "        return self.new_state, self.reward"
   ]
  },
  {
   "cell_type": "markdown",
   "metadata": {},
   "source": [
    "## Initialization and Function Definitions"
   ]
  },
  {
   "cell_type": "code",
   "execution_count": 4,
   "metadata": {},
   "outputs": [],
   "source": [
    "invader_defender = Invader_Defender(6)"
   ]
  },
  {
   "cell_type": "code",
   "execution_count": 5,
   "metadata": {},
   "outputs": [],
   "source": [
    "state_list = []\n",
    "delta_list = []"
   ]
  },
  {
   "cell_type": "code",
   "execution_count": 6,
   "metadata": {},
   "outputs": [],
   "source": [
    "def calculate_value(G_state, agetNum):\n",
    "    \"\"\"\n",
    "    A function that calculates the value of a game by using linear programming.\n",
    "    The value is calculated in both the defender and invader's perspective which are equal in value\n",
    "    and opposite in signs\n",
    "    Input: payoff matrix of a particular state (4x4 matrix)\n",
    "    Output: Value = scalar value of the game.\n",
    "    \"\"\"\n",
    "    G_state = list(G_state)\n",
    "    if agentNum ==0:\n",
    "        \n",
    "        # defender lin prog\n",
    "        c = [0, 0, 0, 0, -1]\n",
    "        defender_q = -1*np.transpose(G_state)     \n",
    "        v_coeff = np.ones((4,1))\n",
    "        Aub = np.concatenate((defender_q,v_coeff),1)\n",
    "        b = [0, 0, 0, 0]\n",
    "        Aeq = [[1, 1, 1, 1, 0]]\n",
    "        beq = [[1.]]\n",
    "        bounds = ((0,1),(0,1),(0,1),(0,1),(None, None))\n",
    "        defender_solution = linprog(c, A_ub=Aub, b_ub=b, A_eq=Aeq, b_eq=beq, bounds=bounds, method='revised simplex')\n",
    "\n",
    "        # invader lin prog\n",
    "        c = [0, 0, 0, 0, 1]\n",
    "        invader_q = G_state\n",
    "        w_coeff = np.ones((4,1))*-1\n",
    "        Aub = np.concatenate((invader_q,w_coeff),1)\n",
    "        invader_solution = linprog(c, A_ub=Aub, b_ub=b, A_eq=Aeq, b_eq=beq, bounds=bounds, method='revised simplex')\n",
    "\n",
    "        # check if the linprog solution is successful or not\n",
    "        if defender_solution['status'] == 0:\n",
    "            value = defender_solution['fun']\n",
    "        else:\n",
    "            value = invader_solution['fun']*-1\n",
    "    else:\n",
    "        # invader lin prog\n",
    "        c = [0, 0, 0, 0, -1]\n",
    "        invader_q = -1*np.transpose(G_state)     \n",
    "        v_coeff = np.ones((4,1))\n",
    "        Aub = np.concatenate((invader_q,v_coeff),1)\n",
    "        b = [0, 0, 0, 0]\n",
    "        Aeq = [[1, 1, 1, 1, 0]]\n",
    "        beq = [[1.]]\n",
    "        bounds = ((0,1),(0,1),(0,1),(0,1),(None, None))\n",
    "        invader_solution = linprog(c, A_ub=Aub, b_ub=b, A_eq=Aeq, b_eq=beq, bounds=bounds, method='revised simplex')\n",
    "\n",
    "        # defender lin prog\n",
    "        c = [0, 0, 0, 0, 1]\n",
    "        defender_q = G_state\n",
    "        w_coeff = np.ones((4,1))*-1\n",
    "        Aub = np.concatenate((defender_q,w_coeff),1)\n",
    "        defender_solution = linprog(c, A_ub=Aub, b_ub=b, A_eq=Aeq, b_eq=beq, bounds=bounds, method='revised simplex')\n",
    "\n",
    "        # check if the linprog solution is successful or not\n",
    "        if invader_solution['status'] == 0:\n",
    "            value = invader_solution['fun']\n",
    "        else:\n",
    "            value = defender_solution['fun']*-1\n",
    "#     print(\"defender value: \", defender_solution['fun'])\n",
    "#     print(\"invader value: \", invader_solution['fun'])\n",
    "    \n",
    "    return value"
   ]
  },
  {
   "cell_type": "code",
   "execution_count": 7,
   "metadata": {},
   "outputs": [],
   "source": [
    "def calculate_payoff(state, agentNum, Q):\n",
    "    \"\"\"\n",
    "    A function calculates the payoff of a specific state based on Q values\n",
    "    Input: state (ie. [0,0,1,1])\n",
    "    Output: payoff = 4x4 matrix where each element represent the defender's payoff \n",
    "    when defender take i, and invader take action j\n",
    "    \"\"\"\n",
    "    #0 defender , 1 invader. agentNum =0 => state_action_pair=s1,s2,ai,ad /\n",
    "    if agentNum == 0:\n",
    "        state = list(state)\n",
    "        payoff = np.zeros([4,4])\n",
    "        for i in range(action_count):\n",
    "            invader_action = i\n",
    "            for j in range(action_count):\n",
    "                defender_action = j\n",
    "                joint_action = [invader_action,defender_action]\n",
    "                state_action_pair = tuple(state + joint_action)\n",
    "                payoff[i, j] = Q[state_action_pair] \n",
    "    #agentNum =1 => state_action_pair=s1,s2,ad,ai\n",
    "    else:\n",
    "        state = list(state)\n",
    "        payoff = np.zeros([4,4])\n",
    "        for i in range(action_count):\n",
    "            defender_action= i\n",
    "            for j in range(action_count):\n",
    "                invader_action= j\n",
    "                joint_action = [defender_action, invader_action]\n",
    "                state_action_pair = tuple(state + joint_action)\n",
    "                payoff[i, j] = Q[state_action_pair]\n",
    "\n",
    "    return payoff"
   ]
  },
  {
   "cell_type": "code",
   "execution_count": 8,
   "metadata": {},
   "outputs": [],
   "source": [
    "def equilibrium(G_state, agentNum):\n",
    "    \"\"\"\n",
    "    A function that obtains the policy for defender and invader\n",
    "    The value is calculated in both the defender and invader's perspective which are equal in value\n",
    "    and opposite in signs\n",
    "    Input: payoff matrix of a particular state (4x4 matrix)\n",
    "    Output: policy for defender and invader\n",
    "    \"\"\"\n",
    "    if agentNum ==0: \n",
    "        # defender lin prog\n",
    "        c = [0, 0, 0, 0, -1]\n",
    "        defender_q = -1*np.transpose(G_state)     \n",
    "        v_coeff = np.ones((4,1))\n",
    "        Aub = np.concatenate((defender_q,v_coeff),1)\n",
    "        b = [0, 0, 0, 0]\n",
    "        Aeq = [[1, 1, 1, 1, 0]]\n",
    "        beq = [[1.]]\n",
    "        bounds = ((0,1),(0,1),(0,1),(0,1),(None, None))\n",
    "        defender_solution = linprog(c, A_ub=Aub, b_ub=b, A_eq=Aeq, b_eq=beq, bounds=bounds, method='revised simplex')\n",
    "    \n",
    "        # invader lin prog\n",
    "        c = [0, 0, 0, 0, 1]\n",
    "        invader_q = G_state\n",
    "        w_coeff = np.ones((4,1))*-1\n",
    "        Aub = np.concatenate((invader_q,w_coeff),1)\n",
    "        invader_solution = linprog(c, A_ub=Aub, b_ub=b, A_eq=Aeq, b_eq=beq, bounds=bounds, method='revised simplex')\n",
    "\n",
    "        if defender_solution['status'] == 0:\n",
    "            defender_policy = defender_solution['x'][:4]\n",
    "        else:\n",
    "            defender_policy = np.array([0.25,0.25,0.25,0.25])\n",
    "\n",
    "        if invader_solution['status'] == 0:\n",
    "            invader_policy = invader_solution['x'][:4]\n",
    "        else:\n",
    "            invader_policy = np.array([0.25,0.25,0.25,0.25])\n",
    "    \n",
    "    if agentNum ==1: \n",
    "        # invader lin prog\n",
    "        c = [0, 0, 0, 0, -1]\n",
    "        invader_q = -1*np.transpose(G_state)     \n",
    "        v_coeff = np.ones((4,1))\n",
    "        Aub = np.concatenate((invader_q,v_coeff),1)\n",
    "        b = [0, 0, 0, 0]\n",
    "        Aeq = [[1, 1, 1, 1, 0]]\n",
    "        beq = [[1.]]\n",
    "        bounds = ((0,1),(0,1),(0,1),(0,1),(None, None))\n",
    "        invader_solution = linprog(c, A_ub=Aub, b_ub=b, A_eq=Aeq, b_eq=beq, bounds=bounds, method='revised simplex')\n",
    "    \n",
    "        # defender lin prog\n",
    "        c = [0, 0, 0, 0, 1]\n",
    "        defender_q = G_state\n",
    "        w_coeff = np.ones((4,1))*-1\n",
    "        Aub = np.concatenate((defender_q,w_coeff),1)\n",
    "        defender_solution = linprog(c, A_ub=Aub, b_ub=b, A_eq=Aeq, b_eq=beq, bounds=bounds, method='revised simplex')\n",
    "\n",
    "        if defender_solution['status'] == 0:\n",
    "            defender_policy = defender_solution['x'][:4]\n",
    "        else:\n",
    "            defender_policy = np.array([0.25,0.25,0.25,0.25])\n",
    "\n",
    "        if invader_solution['status'] == 0:\n",
    "            invader_policy = invader_solution['x'][:4]\n",
    "        else:\n",
    "            invader_policy = np.array([0.25,0.25,0.25,0.25])\n",
    "            \n",
    "            \n",
    "            \n",
    "            \n",
    "    return defender_policy, invader_policy"
   ]
  },
  {
   "cell_type": "code",
   "execution_count": 9,
   "metadata": {},
   "outputs": [],
   "source": [
    "#OLD CHOOSE ACTION\n",
    "# def choose_action(defender_policy, invader_policy, epsilon):\n",
    "#     \"\"\"\n",
    "#     A function that choose a joint epsilon-greedy action based on defender/invader policy\n",
    "#     Input: defender_policy (1x4), invader policy (1x4), and epsilon (ie. 0.3)\n",
    "#     Output: joint action index = [defender action index, invader action index] = [0 to 3, 0 to 3]\n",
    "#     \"\"\"\n",
    "       \n",
    "#     # choose an action type: explore (0) or exploit(1)\n",
    "#     action_type = int(np.random.choice(2, 1, p=[epsilon,1-epsilon]))\n",
    "    \n",
    "#     # pick the best action\n",
    "#     best_defender_action_index = np.argmax(defender_policy)\n",
    "#     best_invader_action_index = np.argmax(invader_policy)\n",
    "    \n",
    "#     if action_type == 0:\n",
    "        \n",
    "#         # randomly pick an action\n",
    "#         random_defender_action_index = random.choice(range(4))    \n",
    "#         random_invader_action_index = random.choice(range(4))    \n",
    "\n",
    "#         # while random action is the same as the best action, pick a new action\n",
    "#         while random_defender_action_index == best_defender_action_index:\n",
    "#             random_defender_action_index = random.choice(range(4))\n",
    "#         defender_action_index = random_defender_action_index\n",
    "        \n",
    "#         # while random action is the same as the best action, pick a new action\n",
    "#         while random_invader_action_index == best_invader_action_index:\n",
    "#             random_invader_action_index = random.choice(range(4))\n",
    "#         invader_action_index = random_invader_action_index\n",
    "    \n",
    "#     else:\n",
    "#         defender_action_index = best_defender_action_index\n",
    "#         invader_action_index = best_invader_action_index\n",
    "    \n",
    "#     joint_action = [defender_action_index, invader_action_index]\n",
    "    \n",
    "#     return joint_action"
   ]
  },
  {
   "cell_type": "code",
   "execution_count": 10,
   "metadata": {},
   "outputs": [],
   "source": [
    "#NEW CHOOSE ACTION\n",
    "def choose_action(defender_policy, invader_policy, epsilon):\n",
    "    \"\"\"\n",
    "    A function that choose a joint epsilon-greedy action based on defender/invader policy\n",
    "    Input: defender_policy (1x4), invader policy (1x4), and epsilon (ie. 0.3)\n",
    "    Output: joint action index = [defender action index, invader action index] = [0 to 3, 0 to 3]\n",
    "    \"\"\"\n",
    "       \n",
    "    # choose an action type: explore (0) or exploit(1)\n",
    "    action_type = int(np.random.choice(2, 1, p=[epsilon,1-epsilon]))\n",
    "    \n",
    "    if action_type == 0:\n",
    "        \n",
    "        # randomly pick an action\n",
    "        defender_action_index = random.choice(range(4))    \n",
    "        invader_action_index = random.choice(range(4))    \n",
    "    \n",
    "    else:\n",
    "        defender_action_index = int(np.random.choice(action_count, 1, p=defender_policy.clip(0)))\n",
    "        invader_action_index = int(np.random.choice(action_count, 1, p=invader_policy.clip(0)))\n",
    "   \n",
    "    joint_action = [defender_action_index, invader_action_index]\n",
    "        \n",
    "    return joint_action"
   ]
  },
  {
   "cell_type": "code",
   "execution_count": 11,
   "metadata": {},
   "outputs": [],
   "source": [
    "# generate initial states randomly\n",
    "def generate_random_initial_states(a):\n",
    "    random_initial_states = []\n",
    "    for i in range(a):\n",
    "        random_number = random.randint(0,5)\n",
    "        random_initial_states.append(random_number)\n",
    "    return tuple(random_initial_states)"
   ]
  },
  {
   "cell_type": "code",
   "execution_count": 12,
   "metadata": {},
   "outputs": [],
   "source": [
    "def generate_trajectory(Defender_state, Invader_state, greedy, defender_policy, invader_policy):\n",
    "    \n",
    "    terminal = False\n",
    "    generated = False\n",
    "    exceeded = 0\n",
    "    \n",
    "    # while not successful generation, repeat\n",
    "    while not generated:\n",
    "        game_step = 0\n",
    "        current_state = tuple(Defender_state + Invader_state)\n",
    "        game_trajectory = []\n",
    "        cumulated_reward = 0\n",
    "        # generate a game trajectory\n",
    "        while not terminal:\n",
    "            \n",
    "            generated = True\n",
    "            \n",
    "            # append game trajectory\n",
    "            game_trajectory.append(current_state)\n",
    "\n",
    "            # check if game is terminal (someone won)\n",
    "            terminal, status = invader_defender.terminal_check(list(current_state))\n",
    "            \n",
    "            if greedy:\n",
    "                invader_action = actions[int(np.random.choice(action_count, 1, p=invader_policy[tuple(current_state)].clip(0)))]\n",
    "                defender_action = actions[int(np.random.choice(action_count, 1, p=defender_policy[tuple(current_state)].clip(0)))]\n",
    "              \n",
    "            else:     \n",
    "                # both agents choose action based on policy via sampling\n",
    "                invader_action = actions[int(np.random.choice(action_count, 1, p=invader_policy[tuple(current_state)].clip(0)))]\n",
    "                defender_action = actions[int(np.random.choice(action_count, 1, p=defender_policy[tuple(current_state)].clip(0)))]\n",
    "\n",
    "            # obtain next state\n",
    "            next_state, reward = invader_defender.next_state(list(current_state), defender_action, invader_action)\n",
    "            current_state = tuple(next_state)\n",
    "            cumulated_reward = cumulated_reward + reward\n",
    "            \n",
    "            game_step += 1\n",
    "#             clear_output(wait=True)\n",
    "#             display(\"game step: \" + str(game_step))\n",
    "            \n",
    "            # exit the game if the game steps increase pass 100 (implying agents are stuck)\n",
    "            if game_step > 50:\n",
    "                exceeded += 1\n",
    "                generated = True     \n",
    "                break\n",
    "    \n",
    "    return game_trajectory, status, cumulated_reward"
   ]
  },
  {
   "cell_type": "markdown",
   "metadata": {},
   "source": [
    "## Minimax Q"
   ]
  },
  {
   "cell_type": "markdown",
   "metadata": {},
   "source": [
    "### Initialization "
   ]
  },
  {
   "cell_type": "code",
   "execution_count": 13,
   "metadata": {},
   "outputs": [],
   "source": [
    "# initialize params\n",
    "t = 0\n",
    "T = 200\n",
    "lr = 0.9\n",
    "gamma = 0.95\n",
    "epsilon = 0.99\n",
    "agentNum=2"
   ]
  },
  {
   "cell_type": "code",
   "execution_count": 14,
   "metadata": {},
   "outputs": [],
   "source": [
    "# initialize Q matrix for both agents\n",
    "state_action_pair_list = []\n",
    "\n",
    "# create every possible state action pairs: \n",
    "# 1296 states * 4 defender actions * 4 invader actions = 20736 s,a pairs\n",
    "for state in invader_defender.game_state_list:\n",
    "    for defender_action in range(action_count):\n",
    "        for invader_action in range(action_count):\n",
    "            joint_action = [defender_action, invader_action]\n",
    "            state_action_pair = list(state) + joint_action\n",
    "            state_action_pair_list.append(tuple(state_action_pair))"
   ]
  },
  {
   "cell_type": "code",
   "execution_count": 15,
   "metadata": {},
   "outputs": [],
   "source": [
    "# initialize a dictionary for:\n",
    "#Q0 values = {(x1, y1, x2, y2, invader_action_index, defender_action_index, ): q_value}\n",
    "#Q1 values = {(x1, y1, x2, y2, defender_action_index, invader_action_index): q_value}\n",
    "\n",
    "listofzeros = [0.0] * len(state_action_pair_list)\n",
    "Q0 = dict(zip(state_action_pair_list, listofzeros))\n",
    "Q1 = dict(zip(state_action_pair_list, listofzeros))\n",
    "\n",
    "# initialize a dictionary for: \n",
    "#G0 values = {(x1, y1, x2, y2): payoff_matrix}\n",
    "#G1 values = {(x1, y1, x2, y2): payoff_matrix}\n",
    "\n",
    "listofzeros = [0.0] * len(invader_defender.game_state_list)\n",
    "for state in invader_defender.game_state_list:\n",
    "    state_list.append(state)\n",
    "G0 = dict(zip(state_list, listofzeros))\n",
    "G1 = dict(zip(state_list, listofzeros))\n",
    "\n",
    "# initialize policies\n",
    "initial_policy = []\n",
    "defender_policy0 = {}\n",
    "invader_policy0 = {}\n",
    "defender_policy1 = {}\n",
    "invader_policy1 = {}\n",
    "for i in range(len(invader_defender.game_state_list)):\n",
    "    random_policy = np.array([0.25, 0.25, 0.25, 0.25])\n",
    "    initial_policy.append(random_policy)\n",
    "defender_policy0 = dict(zip(state_list, initial_policy))\n",
    "invader_policy0 = dict(zip(state_list, initial_policy))\n",
    "defender_policy1 = dict(zip(state_list, initial_policy))\n",
    "invader_policy1 = dict(zip(state_list, initial_policy))"
   ]
  },
  {
   "cell_type": "markdown",
   "metadata": {},
   "source": [
    "### Algorithm Starts "
   ]
  },
  {
   "cell_type": "code",
   "execution_count": 16,
   "metadata": {},
   "outputs": [],
   "source": [
    "# initialize states\n",
    "defender_state = [5,0]\n",
    "invader_state = [0,0]\n",
    "current_state = tuple(defender_state + invader_state)"
   ]
  },
  {
   "cell_type": "code",
   "execution_count": 17,
   "metadata": {},
   "outputs": [],
   "source": [
    "# build game based on Q value\n",
    "G0[current_state] = calculate_payoff(current_state,0, Q0)\n",
    "G1[current_state] = calculate_payoff(current_state,1, Q1)"
   ]
  },
  {
   "cell_type": "code",
   "execution_count": 18,
   "metadata": {},
   "outputs": [],
   "source": [
    "# choose a policy by solving the current game\n",
    "#defender_policy[current_state], invader_policy[current_state] = equilibrium(G[current_state])\n",
    "#equilibrium(G[current_state])"
   ]
  },
  {
   "cell_type": "code",
   "execution_count": 19,
   "metadata": {},
   "outputs": [],
   "source": [
    "def generate_q_dict(state): #not modified by David\n",
    "#     Q_state_list = []\n",
    "#     for state in invader_defender.game_state_list:\n",
    "    Q_state = []\n",
    "    for defender_action in range(action_count):\n",
    "        for invader_action in range(action_count):\n",
    "            state_action_pair = tuple(list(state) + [defender_action, invader_action])\n",
    "            Q_state.append(Q[state_action_pair])\n",
    "    \n",
    "#     Q_state_list.append(Q_state)\n",
    "#     Q_state_dict = dict(zip(state_list, Q_state_list))\n",
    "    return max(Q_state)\n",
    "\n"
   ]
  },
  {
   "cell_type": "code",
   "execution_count": 20,
   "metadata": {},
   "outputs": [],
   "source": [
    "# initialize a dictionary for G values = {(x1, y1, x2, y2): payoff_matrix}\n",
    "listofzeros = [0.0] * len(state_action_pair_list)\n",
    "# for state in invader_defender.game_state_list:\n",
    "#     state_list.append(state)\n",
    "state_count0 = dict(zip(state_action_pair_list, listofzeros))\n",
    "state_count1 = dict(zip(state_action_pair_list, listofzeros))"
   ]
  },
  {
   "cell_type": "code",
   "execution_count": 21,
   "metadata": {},
   "outputs": [
    {
     "data": {
      "text/plain": [
       "'episode: 4999 delta defender: 90.0delta invader: 90.0'"
      ]
     },
     "metadata": {},
     "output_type": "display_data"
    },
    {
     "name": "stdout",
     "output_type": "stream",
     "text": [
      "Wall time: 1h 7min 45s\n"
     ]
    }
   ],
   "source": [
    "%%time\n",
    "\n",
    "# trajectory = []\n",
    "episodes = 5000\n",
    "eps = 0\n",
    "unique_counter = 0\n",
    "tolerance = 1\n",
    "delta_list0 = []\n",
    "delta0 = 1\n",
    "delta_list1 = []\n",
    "delta1 = 1\n",
    "cumulated_reward_list = []\n",
    "\n",
    "for z in range(agentNum):\n",
    "    cumulated_reward_list.append(0.0)\n",
    "\n",
    "for eps in range(episodes):\n",
    "    t = 0\n",
    "    delta = 0\n",
    "    while t < T:\n",
    "    #G0-Q0(x1, y1, x2, y2, ai, ad) 0-> defender is learning/row player invader - 1 invader is learning/row player defender \n",
    "    # choose a policy by solving its internal current game\n",
    "        defender_policy0[current_state], invader_policy0[current_state] = equilibrium(G0[current_state],0)\n",
    "        defender_policy1[current_state], invader_policy1[current_state] = equilibrium(G1[current_state],1)\n",
    "    # choose a joint based on epsilon greedy (joint_action = [ad, ai])\n",
    "        joint_action = choose_action(defender_policy0[current_state], invader_policy1[current_state], epsilon)         \n",
    "        joint_action0 = [joint_action[1],joint_action[0]]\n",
    "        current_state_action_pair0 = tuple(list(current_state) + joint_action0) \n",
    "        current_state_action_pair1 = tuple(list(current_state) + joint_action)\n",
    "    # get next state and reward(defender) based on current state [x1,y1,x2,y2] and joint action [ad, ai]\n",
    "        next_state, reward = invader_defender.next_state(current_state, actions[joint_action[0]], actions[joint_action[1]])\n",
    "        next_state = tuple(next_state)\n",
    "\n",
    "    # build a game based on next state: calculate payoff of next state\n",
    "        G0[next_state] = calculate_payoff(next_state, 0, Q0)\n",
    "        G1[next_state] = calculate_payoff(next_state, 1, Q1)\n",
    "    # generate a policy based on equilibirum of next game\n",
    "        defender_policy0[current_state], invader_policy0[current_state] = equilibrium(G0[next_state], 0)\n",
    "        defender_policy1[current_state], invader_policy1[current_state] = equilibrium(G1[next_state], 1)\n",
    "    # make copy of Q table\n",
    "        Q0_copy = Q0[current_state_action_pair0]\n",
    "        Q1_copy = Q1[current_state_action_pair1]\n",
    "    # update Q[s,a] <- Q[s,a] + lr*(-1*reward + gamma*value(s') - Q[s,a])\n",
    "        state_count0[current_state_action_pair0] += 1\n",
    "        state_count1[current_state_action_pair1] += 1\n",
    "        lr_0 = lr / state_count0[current_state_action_pair0]\n",
    "        lr_1 = lr / state_count1[current_state_action_pair1]  \n",
    "\n",
    "        value0 = calculate_value(G0[next_state], 0)\n",
    "        Q0[current_state_action_pair0] = Q0_copy + lr_0*(-1*reward + gamma*value0 - Q0_copy)\n",
    "\n",
    "        value1 = calculate_value(G1[next_state], 1)\n",
    "        Q1[current_state_action_pair1] = Q1_copy + lr_1*(reward + gamma*value1 - Q1_copy)\n",
    "\n",
    "\n",
    "    # calculate delta\n",
    "        delta0 = max(delta0, abs(Q0[current_state_action_pair0] - Q0_copy))    \n",
    "        delta1 = max(delta1, abs(Q1[current_state_action_pair1] - Q1_copy)) \n",
    "\n",
    "\n",
    "        # if game reached terminal state, restart new episode\n",
    "        terminal, status = invader_defender.terminal_check(list(next_state))\n",
    "        if terminal:\n",
    "            defender_state = [5,0]\n",
    "            invader_state = [0,0]\n",
    "            current_state = tuple(defender_state + invader_state)\n",
    "            break\n",
    "\n",
    "        # set next state as current state\n",
    "        current_state = next_state\n",
    "        t+=1\n",
    "\n",
    "        # Testing\n",
    "\n",
    "    game_trajectory, status, cumulated_reward = generate_trajectory([5,0],[0,0], True, defender_policy0, invader_policy1)\n",
    "    cumulated_reward_list.append(cumulated_reward)\n",
    "         \n",
    "   \n",
    "\n",
    "    #  print k and current max delta\n",
    "    clear_output(wait=True)\n",
    "    display('episode: ' + str(eps) + ' delta defender: ' + str(round(delta0, 3)) +  'delta invader: ' + str(round(delta1, 3)))\n",
    "    delta_list0.append(delta0)\n",
    "    delta_list1.append(delta1)"
   ]
  },
  {
   "cell_type": "code",
   "execution_count": 22,
   "metadata": {},
   "outputs": [
    {
     "data": {
      "text/plain": [
       "Text(0, 0.5, 'Reward')"
      ]
     },
     "execution_count": 22,
     "metadata": {},
     "output_type": "execute_result"
    },
    {
     "data": {
      "image/png": "[encoded data removed]",
      "text/plain": [
       "<Figure size 432x288 with 1 Axes>"
      ]
     },
     "metadata": {
      "needs_background": "light"
     },
     "output_type": "display_data"
    }
   ],
   "source": [
    "# reward per episode\n",
    "plt.plot(cumulated_reward_list)\n",
    "plt.title('Testing Reward per Episode with Epsilon: ' + str(epsilon))\n",
    "plt.xlabel('Episode')\n",
    "plt.ylabel('Reward')"
   ]
  },
  {
   "cell_type": "code",
   "execution_count": 23,
   "metadata": {},
   "outputs": [],
   "source": [
    "# defender reward\n",
    "sum_reward = 0\n",
    "sum_reward_list = []\n",
    "for i in range(len(cumulated_reward_list)):\n",
    "    sum_reward = sum_reward + cumulated_reward_list[i]\n",
    "    sum_reward_list.append(sum_reward)"
   ]
  },
  {
   "cell_type": "code",
   "execution_count": 24,
   "metadata": {},
   "outputs": [
    {
     "data": {
      "text/plain": [
       "Text(0, 0.5, 'Reward')"
      ]
     },
     "execution_count": 24,
     "metadata": {},
     "output_type": "execute_result"
    },
    {
     "data": {
      "image/png": "[encoded data removed]",
      "text/plain": [
       "<Figure size 432x288 with 1 Axes>"
      ]
     },
     "metadata": {
      "needs_background": "light"
     },
     "output_type": "display_data"
    }
   ],
   "source": [
    "plt.plot(sum_reward_list)\n",
    "plt.title('Cumulative Test Reward for Defender with Epsilon: ' + str(epsilon))\n",
    "plt.xlabel('Episode')\n",
    "plt.ylabel('Reward')"
   ]
  },
  {
   "cell_type": "code",
   "execution_count": 25,
   "metadata": {},
   "outputs": [],
   "source": [
    "# invader reward\n",
    "sum_reward = 0\n",
    "sum_reward_list = []\n",
    "for i in range(len(cumulated_reward_list)):\n",
    "    sum_reward = sum_reward + (cumulated_reward_list[i]*-1)\n",
    "    sum_reward_list.append(sum_reward)"
   ]
  },
  {
   "cell_type": "code",
   "execution_count": 26,
   "metadata": {},
   "outputs": [
    {
     "data": {
      "text/plain": [
       "Text(0, 0.5, 'Reward')"
      ]
     },
     "execution_count": 26,
     "metadata": {},
     "output_type": "execute_result"
    },
    {
     "data": {
      "image/png": "[encoded data removed]",
      "text/plain": [
       "<Figure size 432x288 with 1 Axes>"
      ]
     },
     "metadata": {
      "needs_background": "light"
     },
     "output_type": "display_data"
    }
   ],
   "source": [
    "plt.plot(sum_reward_list)\n",
    "plt.title('Cumulative Test Reward for Invader with Epsilon: ' + str(epsilon))\n",
    "plt.xlabel('Episode')\n",
    "plt.ylabel('Reward')"
   ]
  },
  {
   "cell_type": "code",
   "execution_count": 27,
   "metadata": {},
   "outputs": [
    {
     "data": {
      "image/png": "[encoded data removed]",
      "text/plain": [
       "<Figure size 432x288 with 1 Axes>"
      ]
     },
     "metadata": {
      "needs_background": "light"
     },
     "output_type": "display_data"
    }
   ],
   "source": [
    "# Q delta\n",
    "plt.plot(delta_list0, label='agent 1', color = 'r')\n",
    "plt.plot(delta_list1, label='agent 2', color = 'b')\n",
    "plt.title('Q Delta with Epsilon: ' + str(epsilon) + \" and lr: \" + str(lr))\n",
    "plt.xlabel('Episode')\n",
    "plt.ylabel('Delta')\n",
    "\n",
    "# plot moving average\n",
    "reward_frame = pd.DataFrame(delta_list0)\n",
    "rolling_mean = reward_frame.rolling(window=100).mean()\n",
    "#plt.plot(rolling_mean, label='Moving Average', color='orange')\n",
    "plt.legend()\n",
    "plt.show()"
   ]
  },
  {
   "cell_type": "code",
   "execution_count": 28,
   "metadata": {},
   "outputs": [
    {
     "ename": "TypeError",
     "evalue": "'int' object is not subscriptable",
     "output_type": "error",
     "traceback": [
      "\u001b[1;31m---------------------------------------------------------------------------\u001b[0m",
      "\u001b[1;31mTypeError\u001b[0m                                 Traceback (most recent call last)",
      "\u001b[1;32m<ipython-input-28-d50569286047>\u001b[0m in \u001b[0;36m<module>\u001b[1;34m\u001b[0m\n\u001b[0;32m      1\u001b[0m \u001b[1;31m# policy extraction\u001b[0m\u001b[1;33m\u001b[0m\u001b[1;33m\u001b[0m\u001b[1;33m\u001b[0m\u001b[0m\n\u001b[0;32m      2\u001b[0m \u001b[1;32mfor\u001b[0m \u001b[0mstate\u001b[0m \u001b[1;32min\u001b[0m \u001b[0minvader_defender\u001b[0m\u001b[1;33m.\u001b[0m\u001b[0mgame_state_list\u001b[0m\u001b[1;33m:\u001b[0m\u001b[1;33m\u001b[0m\u001b[1;33m\u001b[0m\u001b[0m\n\u001b[1;32m----> 3\u001b[1;33m     \u001b[0mG0\u001b[0m\u001b[1;33m[\u001b[0m\u001b[0mstate\u001b[0m\u001b[1;33m]\u001b[0m \u001b[1;33m=\u001b[0m \u001b[0mcalculate_payoff\u001b[0m\u001b[1;33m(\u001b[0m\u001b[0mstate\u001b[0m\u001b[1;33m,\u001b[0m \u001b[0mQ0\u001b[0m\u001b[1;33m,\u001b[0m \u001b[1;36m0\u001b[0m\u001b[1;33m)\u001b[0m\u001b[1;33m\u001b[0m\u001b[1;33m\u001b[0m\u001b[0m\n\u001b[0m\u001b[0;32m      4\u001b[0m     \u001b[0mdefender_policy0\u001b[0m\u001b[1;33m[\u001b[0m\u001b[0mstate\u001b[0m\u001b[1;33m]\u001b[0m\u001b[1;33m,\u001b[0m \u001b[0minvader_policy0\u001b[0m\u001b[1;33m[\u001b[0m\u001b[0mstate\u001b[0m\u001b[1;33m]\u001b[0m \u001b[1;33m=\u001b[0m \u001b[0mequilibrium\u001b[0m\u001b[1;33m(\u001b[0m\u001b[0mG0\u001b[0m\u001b[1;33m[\u001b[0m\u001b[0mstate\u001b[0m\u001b[1;33m]\u001b[0m\u001b[1;33m,\u001b[0m \u001b[1;36m0\u001b[0m\u001b[1;33m)\u001b[0m\u001b[1;33m\u001b[0m\u001b[1;33m\u001b[0m\u001b[0m\n",
      "\u001b[1;32m<ipython-input-7-0bbef27012e2>\u001b[0m in \u001b[0;36mcalculate_payoff\u001b[1;34m(state, agentNum, Q)\u001b[0m\n\u001b[0;32m     27\u001b[0m                 \u001b[0mjoint_action\u001b[0m \u001b[1;33m=\u001b[0m \u001b[1;33m[\u001b[0m\u001b[0mdefender_action\u001b[0m\u001b[1;33m,\u001b[0m \u001b[0minvader_action\u001b[0m\u001b[1;33m]\u001b[0m\u001b[1;33m\u001b[0m\u001b[1;33m\u001b[0m\u001b[0m\n\u001b[0;32m     28\u001b[0m                 \u001b[0mstate_action_pair\u001b[0m \u001b[1;33m=\u001b[0m \u001b[0mtuple\u001b[0m\u001b[1;33m(\u001b[0m\u001b[0mstate\u001b[0m \u001b[1;33m+\u001b[0m \u001b[0mjoint_action\u001b[0m\u001b[1;33m)\u001b[0m\u001b[1;33m\u001b[0m\u001b[1;33m\u001b[0m\u001b[0m\n\u001b[1;32m---> 29\u001b[1;33m                 \u001b[0mpayoff\u001b[0m\u001b[1;33m[\u001b[0m\u001b[0mi\u001b[0m\u001b[1;33m,\u001b[0m \u001b[0mj\u001b[0m\u001b[1;33m]\u001b[0m \u001b[1;33m=\u001b[0m \u001b[0mQ\u001b[0m\u001b[1;33m[\u001b[0m\u001b[0mstate_action_pair\u001b[0m\u001b[1;33m]\u001b[0m\u001b[1;33m\u001b[0m\u001b[1;33m\u001b[0m\u001b[0m\n\u001b[0m\u001b[0;32m     30\u001b[0m \u001b[1;33m\u001b[0m\u001b[0m\n\u001b[0;32m     31\u001b[0m     \u001b[1;32mreturn\u001b[0m \u001b[0mpayoff\u001b[0m\u001b[1;33m\u001b[0m\u001b[1;33m\u001b[0m\u001b[0m\n",
      "\u001b[1;31mTypeError\u001b[0m: 'int' object is not subscriptable"
     ]
    }
   ],
   "source": [
    "# policy extraction\n",
    "for state in invader_defender.game_state_list:    \n",
    "    G0[state] = calculate_payoff(state, Q0, 0)\n",
    "    defender_policy0[state], invader_policy0[state] = equilibrium(G0[state], 0)"
   ]
  },
  {
   "cell_type": "code",
   "execution_count": null,
   "metadata": {},
   "outputs": [],
   "source": [
    "defender_policy0[(5,0,0,0)]"
   ]
  },
  {
   "cell_type": "code",
   "execution_count": null,
   "metadata": {},
   "outputs": [],
   "source": [
    "invader_policy1[(5,0,0,0)]"
   ]
  },
  {
   "cell_type": "code",
   "execution_count": null,
   "metadata": {},
   "outputs": [],
   "source": [
    "defender_policy0[(5,0,1,2)]"
   ]
  },
  {
   "cell_type": "code",
   "execution_count": null,
   "metadata": {},
   "outputs": [],
   "source": [
    "invader_policy1[(5,0,1,2)]"
   ]
  },
  {
   "cell_type": "code",
   "execution_count": null,
   "metadata": {},
   "outputs": [],
   "source": [
    "defender_policy0"
   ]
  },
  {
   "cell_type": "markdown",
   "metadata": {},
   "source": [
    "### Save Results to Pickle "
   ]
  },
  {
   "cell_type": "code",
   "execution_count": null,
   "metadata": {},
   "outputs": [],
   "source": [
    "with open('Q_minimax.pickle', 'wb') as handle:\n",
    "    pickle.dump(Q, handle)\n",
    "\n",
    "with open('G_minimax.pickle', 'wb') as handle:\n",
    "    pickle.dump(G, handle)"
   ]
  },
  {
   "cell_type": "markdown",
   "metadata": {},
   "source": [
    "## Load from Pickle and Extract Policy "
   ]
  },
  {
   "cell_type": "code",
   "execution_count": null,
   "metadata": {},
   "outputs": [],
   "source": [
    "# # uncomment to load U and G\n",
    "# with open ('Q_minimax.pickle', 'rb') as handle:\n",
    "#     Q = pickle.load(handle)\n",
    "    \n",
    "# with open ('G_minimax.pickle', 'rb') as handle:\n",
    "#     G = pickle.load(handle)"
   ]
  },
  {
   "cell_type": "code",
   "execution_count": null,
   "metadata": {},
   "outputs": [],
   "source": [
    "# # initialize policies\n",
    "# initial_policy = []\n",
    "# defender_policy = {}\n",
    "# invader_policy = {}\n",
    "# for i in range(len(invader_defender.game_state_list)):\n",
    "#     random_policy = np.array([0.25, 0.25, 0.25, 0.25])\n",
    "#     initial_policy.append(random_policy)\n",
    "# defender_policy = dict(zip(state_list, initial_policy))\n",
    "# invader_policy = dict(zip(state_list, initial_policy))\n",
    "\n",
    "# # policy extraction\n",
    "# for state in invader_defender.game_state_list:    \n",
    "#     G[state] = calculate_payoff(state)\n",
    "#     defender_policy[state], invader_policy[state] = equilibrium(G[state])"
   ]
  },
  {
   "cell_type": "code",
   "execution_count": null,
   "metadata": {},
   "outputs": [],
   "source": [
    "# defender_policy[(5,0,0,0)]"
   ]
  },
  {
   "cell_type": "code",
   "execution_count": null,
   "metadata": {},
   "outputs": [],
   "source": [
    "# invader_policy[(5,0,0,0)]"
   ]
  },
  {
   "cell_type": "markdown",
   "metadata": {},
   "source": [
    "## Heatmap"
   ]
  },
  {
   "cell_type": "code",
   "execution_count": 34,
   "metadata": {},
   "outputs": [],
   "source": [
    "# create Q_state_dict = {(x1,y1,x2,y2): [1,2,3....16]} where 1-16 represent the Q values \n",
    "# of each defender invader action combination\n",
    "\n",
    "Q_state_list1 = []\n",
    "for state in invader_defender.game_state_list:\n",
    "    Q_state1 = []\n",
    "    for defender_action in range(action_count):\n",
    "        for invader_action in range(action_count):\n",
    "            state_action_pair1 = tuple(list(state) + [defender_action, invader_action])\n",
    "            Q_state1.append(Q1[state_action_pair1])\n",
    "    Q_state_list1.append(Q_state1)      \n",
    "    \n",
    "Q_state_dict1 = dict(zip(state_list, Q_state_list1))\n",
    "\n",
    "Q_state_list0 = []\n",
    "for state in invader_defender.game_state_list:\n",
    "    Q_state0 = []\n",
    "    for invader_action in range(action_count):\n",
    "        for defender_action in range(action_count):\n",
    "            state_action_pair0 = tuple(list(state) + [invader_action,defender_action])\n",
    "            Q_state0.append(Q0[state_action_pair0])\n",
    "    Q_state_list0.append(Q_state0)      \n",
    "    \n",
    "Q_state_dict0 = dict(zip(state_list, Q_state_list0))"
   ]
  },
  {
   "cell_type": "code",
   "execution_count": null,
   "metadata": {},
   "outputs": [],
   "source": []
  },
  {
   "cell_type": "markdown",
   "metadata": {},
   "source": [
    "### Invader Map "
   ]
  },
  {
   "cell_type": "code",
   "execution_count": 35,
   "metadata": {},
   "outputs": [],
   "source": [
    "# create a list of states that fixes the defender's starting position\n",
    "fixed_defender_state_list = []\n",
    "for invader_state in invader_defender.states:\n",
    "    fixed_defender_state = tuple([5, 0] + invader_state)\n",
    "    fixed_defender_state_list.append(fixed_defender_state)"
   ]
  },
  {
   "cell_type": "code",
   "execution_count": 36,
   "metadata": {},
   "outputs": [
    {
     "data": {
      "image/png": "[encoded data removed]",
      "text/plain": [
       "<Figure size 432x288 with 2 Axes>"
      ]
     },
     "metadata": {
      "needs_background": "light"
     },
     "output_type": "display_data"
    }
   ],
   "source": [
    "invader_map = np.zeros([6,6])\n",
    "for state in fixed_defender_state_list:\n",
    "    invader_map[state[2], state[3]] = max(Q_state_dict1[state])  # -1 for invaders perspective\n",
    "\n",
    "# if the defender is fixed at the bottom left corner, this heatmap shows the invader's rewards\n",
    "plt.imshow(invader_map, interpolation='nearest')\n",
    "plt.colorbar()\n",
    "plt.title('Value Function from the Invader Perspective (Defender fixed at [5,0])')\n",
    "plt.show()"
   ]
  },
  {
   "cell_type": "markdown",
   "metadata": {},
   "source": [
    "### Defender Map "
   ]
  },
  {
   "cell_type": "code",
   "execution_count": 32,
   "metadata": {},
   "outputs": [],
   "source": [
    "# create a list of states that fixes the invaders's starting position\n",
    "fixed_invader_state_list = []\n",
    "for defender_state in invader_defender.states:\n",
    "    fixed_invader_state = tuple(defender_state + [0, 0])\n",
    "    fixed_invader_state_list.append(fixed_invader_state)"
   ]
  },
  {
   "cell_type": "code",
   "execution_count": 33,
   "metadata": {},
   "outputs": [
    {
     "data": {
      "image/png": "[encoded data removed]",
      "text/plain": [
       "<Figure size 432x288 with 2 Axes>"
      ]
     },
     "metadata": {
      "needs_background": "light"
     },
     "output_type": "display_data"
    }
   ],
   "source": [
    "# create invader heatmap\n",
    "defender_map = np.zeros([6,6])\n",
    "for state in fixed_invader_state_list:\n",
    "    defender_map[state[1], state[0]] = max(Q_state_dict0[state])*-1\n",
    "\n",
    "# if invader is fixed at top left corner, this heatmap shows the defender's rewards\n",
    "plt.imshow(defender_map, interpolation='nearest')\n",
    "plt.colorbar()\n",
    "plt.title('Value Function from the Defender Perspective (Invader fixed at [0,0])')\n",
    "plt.show()"
   ]
  },
  {
   "cell_type": "markdown",
   "metadata": {},
   "source": [
    "## Play a Game"
   ]
  },
  {
   "cell_type": "code",
   "execution_count": null,
   "metadata": {},
   "outputs": [],
   "source": [
    "# check if any element of the dictionary is negative: none\n",
    "for key in defender_policy:\n",
    "    if defender_policy0[key].any() < 0:\n",
    "        print(key)"
   ]
  },
  {
   "cell_type": "code",
   "execution_count": null,
   "metadata": {},
   "outputs": [],
   "source": [
    "# check if any element of the dictionary is negative: none\n",
    "for key in invader_policy:\n",
    "    if invader_policy1[key].any() < 0:\n",
    "        print(key)"
   ]
  },
  {
   "cell_type": "markdown",
   "metadata": {},
   "source": [
    "### Animate the Game "
   ]
  },
  {
   "cell_type": "code",
   "execution_count": 109,
   "metadata": {},
   "outputs": [
    {
     "data": {
      "text/plain": [
       "'Defender Won'"
      ]
     },
     "execution_count": 109,
     "metadata": {},
     "output_type": "execute_result"
    }
   ],
   "source": [
    "# generate game trajectory\n",
    "game_trajectory, status, cumulated_reward = generate_trajectory([5,0],[0,0], False, defender_policy0, invader_policy1) \n",
    "status"
   ]
  },
  {
   "cell_type": "code",
   "execution_count": 110,
   "metadata": {},
   "outputs": [
    {
     "data": {
      "text/html": [
       "<div>\n",
       "<style scoped>\n",
       "    .dataframe tbody tr th:only-of-type {\n",
       "        vertical-align: middle;\n",
       "    }\n",
       "\n",
       "    .dataframe tbody tr th {\n",
       "        vertical-align: top;\n",
       "    }\n",
       "\n",
       "    .dataframe thead th {\n",
       "        text-align: right;\n",
       "    }\n",
       "</style>\n",
       "<table border=\"1\" class=\"dataframe\">\n",
       "  <thead>\n",
       "    <tr style=\"text-align: right;\">\n",
       "      <th></th>\n",
       "      <th>0</th>\n",
       "      <th>1</th>\n",
       "      <th>2</th>\n",
       "      <th>3</th>\n",
       "      <th>4</th>\n",
       "      <th>5</th>\n",
       "    </tr>\n",
       "  </thead>\n",
       "  <tbody>\n",
       "    <tr>\n",
       "      <td>0</td>\n",
       "      <td>0</td>\n",
       "      <td>0</td>\n",
       "      <td>0</td>\n",
       "      <td>INV</td>\n",
       "      <td>0</td>\n",
       "      <td>0</td>\n",
       "    </tr>\n",
       "    <tr>\n",
       "      <td>1</td>\n",
       "      <td>0</td>\n",
       "      <td>0</td>\n",
       "      <td>DEF</td>\n",
       "      <td>0</td>\n",
       "      <td>0</td>\n",
       "      <td>0</td>\n",
       "    </tr>\n",
       "    <tr>\n",
       "      <td>2</td>\n",
       "      <td>0</td>\n",
       "      <td>0</td>\n",
       "      <td>0</td>\n",
       "      <td>0</td>\n",
       "      <td>0</td>\n",
       "      <td>0</td>\n",
       "    </tr>\n",
       "    <tr>\n",
       "      <td>3</td>\n",
       "      <td>0</td>\n",
       "      <td>0</td>\n",
       "      <td>0</td>\n",
       "      <td>0</td>\n",
       "      <td>0</td>\n",
       "      <td>0</td>\n",
       "    </tr>\n",
       "    <tr>\n",
       "      <td>4</td>\n",
       "      <td>0</td>\n",
       "      <td>0</td>\n",
       "      <td>0</td>\n",
       "      <td>0</td>\n",
       "      <td>Ter.</td>\n",
       "      <td>0</td>\n",
       "    </tr>\n",
       "    <tr>\n",
       "      <td>5</td>\n",
       "      <td>0</td>\n",
       "      <td>0</td>\n",
       "      <td>0</td>\n",
       "      <td>0</td>\n",
       "      <td>0</td>\n",
       "      <td>0</td>\n",
       "    </tr>\n",
       "  </tbody>\n",
       "</table>\n",
       "</div>"
      ],
      "text/plain": [
       "   0  1    2    3     4  5\n",
       "0  0  0    0  INV     0  0\n",
       "1  0  0  DEF    0     0  0\n",
       "2  0  0    0    0     0  0\n",
       "3  0  0    0    0     0  0\n",
       "4  0  0    0    0  Ter.  0\n",
       "5  0  0    0    0     0  0"
      ]
     },
     "metadata": {},
     "output_type": "display_data"
    },
    {
     "data": {
      "text/plain": [
       "'Defender Won'"
      ]
     },
     "metadata": {},
     "output_type": "display_data"
    }
   ],
   "source": [
    "# define game dimensions\n",
    "columns=range(invader_defender.size)\n",
    "index = range(invader_defender.size)\n",
    "\n",
    "# animate the game\n",
    "for step in range(len(game_trajectory)):\n",
    "    game_table = pd.DataFrame(0, index = index, columns=columns)\n",
    "    game_table[4][4] = 'Ter.'\n",
    "    game_table[game_trajectory[step][1]][game_trajectory[step][0]] = 'DEF'\n",
    "    game_table[game_trajectory[step][3]][game_trajectory[step][2]] = 'INV'\n",
    "    clear_output(wait=True)\n",
    "    display(game_table)\n",
    "    time.sleep(0.2)\n",
    "\n",
    "# print game status¿\n",
    "display(status)"
   ]
  },
  {
   "cell_type": "code",
   "execution_count": null,
   "metadata": {},
   "outputs": [],
   "source": []
  }
 ],
 "metadata": {
  "kernelspec": {
   "display_name": "Python 3",
   "language": "python",
   "name": "python3"
  },
  "language_info": {
   "codemirror_mode": {
    "name": "ipython",
    "version": 3
   },
   "file_extension": ".py",
   "mimetype": "text/x-python",
   "name": "python",
   "nbconvert_exporter": "python",
   "pygments_lexer": "ipython3",
   "version": "3.7.4"
  }
 },
 "nbformat": 4,
 "nbformat_minor": 4
}
