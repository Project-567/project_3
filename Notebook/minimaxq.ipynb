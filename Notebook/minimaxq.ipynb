{
 "cells": [
  {
   "cell_type": "markdown",
   "metadata": {
    "colab_type": "text",
    "id": "cseD2eQMTTkA"
   },
   "source": [
    "# Invader Defender "
   ]
  },
  {
   "cell_type": "code",
   "execution_count": 1,
   "metadata": {
    "colab": {},
    "colab_type": "code",
    "id": "D1gEoO5STTkB"
   },
   "outputs": [],
   "source": [
    "import numpy as np\n",
    "import matplotlib.pyplot as plt\n",
    "from IPython.display import display, clear_output\n",
    "import pickle\n",
    "from scipy.optimize import linprog\n",
    "import pandas as pd\n",
    "import time\n",
    "import random\n",
    "\n",
    "# to remove warnings\n",
    "import warnings\n",
    "warnings.filterwarnings('ignore')"
   ]
  },
  {
   "cell_type": "code",
   "execution_count": 2,
   "metadata": {
    "colab": {},
    "colab_type": "code",
    "id": "JMSt8K9rTTkF"
   },
   "outputs": [],
   "source": [
    "actions = [[-1, 0], [0, 1], [1, 0], [0, -1]] #up, right, down, left = (clockwise from up) \n",
    "action_count = len(actions) \n",
    "gridSize = 6 \n",
    "state_count = gridSize*gridSize"
   ]
  },
  {
   "cell_type": "code",
   "execution_count": 3,
   "metadata": {
    "colab": {},
    "colab_type": "code",
    "id": "04BjVhLMTTkI"
   },
   "outputs": [],
   "source": [
    "class Invader_Defender():\n",
    "    def __init__(self, gridSize):\n",
    "        self.valueMap = np.zeros((gridSize, gridSize))\n",
    "        self.states = [[i, j] for i in range(gridSize) for j in range(gridSize)]\n",
    "        self.size = gridSize\n",
    "        \n",
    "        # deterministic transition ?\n",
    "        self.transition_prob = 1 \n",
    "        \n",
    "        # initialize defender and invader states\n",
    "        self.new_state = [0, 0, 0, 0]\n",
    "        self.new_defender_state = [0, 0]\n",
    "        self.new_invader_state = [0, 0]\n",
    "        \n",
    "        # set territory state\n",
    "        self.territory_state = [4, 4]\n",
    "\n",
    "        # create a list of all possible states in the game\n",
    "        self.game_state_list = []\n",
    "        for defender_state in self.states:\n",
    "            for invader_state in self.states:\n",
    "                combined_states = tuple(defender_state + invader_state)\n",
    "                self.game_state_list.append(combined_states)\n",
    "        \n",
    "        # create 2 lists of states representing defender and invader victory\n",
    "        self.defender_won = []\n",
    "        self.invader_won = []\n",
    "        \n",
    "        # create states representing defender victory\n",
    "        for defender_state in self.states:\n",
    "            for invader_state in self.states:\n",
    "                distance = np.linalg.norm(np.array(defender_state) - np.array(invader_state))\n",
    "                # if the invader is not at territory and within the capture range of defender = defender won\n",
    "                if invader_state != self.territory_state and distance <= np.sqrt(2):\n",
    "                    combined_states = defender_state + invader_state\n",
    "                    self.defender_won.append(combined_states)\n",
    "           \n",
    "        # create states representing invader victory = anytime invader is at territory\n",
    "        for defender_state in self.states:               \n",
    "            combined_states = defender_state + self.territory_state\n",
    "            self.invader_won.append(combined_states)\n",
    "    \n",
    "    def possible_states(self):\n",
    "        \"\"\"\n",
    "        A function that returns a list of all possible states in the game\n",
    "        \"\"\"\n",
    "        return self.game_state_list\n",
    "    \n",
    "    def terminal_check(self, state):\n",
    "        \"\"\"\n",
    "        A function that checks whether the game is at a terminal state.\n",
    "        Terminal state happens when either the invader or defender has won.\n",
    "        \"\"\"\n",
    "        if state in self.defender_won:\n",
    "            status = \"Defender Won\"\n",
    "            terminal_check = True\n",
    "        elif state in self.invader_won:\n",
    "            status = \"Invader Won\"\n",
    "            terminal_check = True\n",
    "        else:\n",
    "            terminal_check = False\n",
    "            status = \"Game in Progress\"\n",
    "\n",
    "        return terminal_check, status\n",
    "    \n",
    "#     def transition_probability(self, transition):\n",
    "#         \"\"\"\n",
    "#         A function that returns the transition probability...?\n",
    "#         \"\"\"\n",
    "#         return self.transition_prob, reward\n",
    "\n",
    "    def next_state(self, current_state, defender_action, invader_action):\n",
    "        \"\"\"\n",
    "        A function that returns the next state\n",
    "        Input: current state [0,0] , defender_action [0, 1], invader_action [0,-1]\n",
    "        Output: next state array([x1,y1,x2,y2]) and reward (int)\n",
    "            - If the action takes the agent off grid, the agent remains in original state\n",
    "            - If defender won, reward is calculated based on manhattan distance between invader captured state\n",
    "            and territory\n",
    "            - If defender loss, reward is -100\n",
    "        \"\"\"\n",
    "        defender_state = []\n",
    "        invader_state = []\n",
    "        \n",
    "        # deconstruct current state [0,0,1,1] in to defender [0,0] and invader [1,1] state\n",
    "        for i in range(4):\n",
    "            if i < 2:\n",
    "                defender_state.append(current_state[i])\n",
    "            else:\n",
    "                invader_state.append(current_state[i])\n",
    "                \n",
    "        # get next state: state: [0, 0], action: [0, 1], new_state = [0, 1]\n",
    "        self.new_defender_state = list(np.array(defender_state) + np.array(defender_action))\n",
    "        self.new_invader_state = list(np.array(invader_state) + np.array(invader_action))\n",
    "\n",
    "        # if new defender states results in off the grid, return to original state\n",
    "        if -1 in self.new_defender_state or self.size in self.new_defender_state:\n",
    "            self.new_defender_state = defender_state\n",
    "        \n",
    "        # if new invader states results in off the grid, return to original state\n",
    "        if -1 in self.new_invader_state or self.size in self.new_invader_state:\n",
    "            self.new_invader_state = invader_state\n",
    "       \n",
    "        # combine the defender and invader state\n",
    "        self.new_state = self.new_defender_state\n",
    "        self.new_state.extend(self.new_invader_state)\n",
    "                  \n",
    "        # new rewards: penalizing defender for every step that invader takes closer to territory\n",
    "        terminal, status = self.terminal_check(self.new_state)\n",
    "        if terminal == True:\n",
    "            if status == \"Defender Won\":\n",
    "                # defender reward if defender won (manhattan distance between invader captured state and territory)\n",
    "                distance_to_territory = sum(abs(np.array(self.new_invader_state) - np.array(self.territory_state)))\n",
    "                self.reward = distance_to_territory * 10\n",
    "            else:\n",
    "                # defender reward if invader won\n",
    "                self.reward = -1000\n",
    "        else:\n",
    "            # penalize defender for every step that invader takes closer to territory\n",
    "            invader_to_territory = sum(abs(np.array(self.new_invader_state) - np.array(self.territory_state)))\n",
    "            self.reward = -(8 - invader_to_territory)*10\n",
    "            \n",
    "        return self.new_state, self.reward"
   ]
  },
  {
   "cell_type": "markdown",
   "metadata": {
    "colab_type": "text",
    "id": "p9hF40KHTTkL"
   },
   "source": [
    "## Initialization and Function Definitions"
   ]
  },
  {
   "cell_type": "code",
   "execution_count": 4,
   "metadata": {
    "colab": {},
    "colab_type": "code",
    "id": "syLNWIkQTTkM"
   },
   "outputs": [],
   "source": [
    "invader_defender = Invader_Defender(6)"
   ]
  },
  {
   "cell_type": "code",
   "execution_count": 5,
   "metadata": {
    "colab": {},
    "colab_type": "code",
    "id": "77jTlJl3TTkP"
   },
   "outputs": [],
   "source": [
    "state_list = []\n",
    "delta_list = []"
   ]
  },
  {
   "cell_type": "code",
   "execution_count": 6,
   "metadata": {
    "colab": {},
    "colab_type": "code",
    "id": "wVl-vJ09TTkS"
   },
   "outputs": [],
   "source": [
    "def calculate_value(G_state):\n",
    "    \"\"\"\n",
    "    A function that calculates the value of a game by using linear programming.\n",
    "    The value is calculated in both the defender and invader's perspective which are equal in value\n",
    "    and opposite in signs\n",
    "    Input: payoff matrix of a particular state (4x4 matrix)\n",
    "    Output: Value = scalar value of the game.\n",
    "    \"\"\"\n",
    "    \n",
    "    G_state = list(G_state)\n",
    "    \n",
    "    # defender lin prog\n",
    "    c = [0, 0, 0, 0, -1]\n",
    "    defender_q = -1*np.transpose(G_state)     \n",
    "    v_coeff = np.ones((4,1))\n",
    "    Aub = np.concatenate((defender_q,v_coeff),1)\n",
    "    b = [0, 0, 0, 0]\n",
    "    Aeq = [[1, 1, 1, 1, 0]]\n",
    "    beq = [[1.]]\n",
    "    bounds = ((0,1),(0,1),(0,1),(0,1),(None, None))\n",
    "    defender_solution = linprog(c, A_ub=Aub, b_ub=b, A_eq=Aeq, b_eq=beq, bounds=bounds, method='revised simplex')\n",
    "    \n",
    "    # invader lin prog\n",
    "    c = [0, 0, 0, 0, 1]\n",
    "    invader_q = G_state\n",
    "    w_coeff = np.ones((4,1))*-1\n",
    "    Aub = np.concatenate((invader_q,w_coeff),1)\n",
    "    invader_solution = linprog(c, A_ub=Aub, b_ub=b, A_eq=Aeq, b_eq=beq, bounds=bounds, method='revised simplex')\n",
    "    \n",
    "    # check if the linprog solution is successful or not\n",
    "    if defender_solution['status'] == 0:\n",
    "        value = defender_solution['fun']*-1\n",
    "    else:\n",
    "        value = invader_solution['fun']\n",
    "    \n",
    "    return value"
   ]
  },
  {
   "cell_type": "code",
   "execution_count": 7,
   "metadata": {
    "colab": {},
    "colab_type": "code",
    "id": "erLG1fX0TTkV"
   },
   "outputs": [],
   "source": [
    "def calculate_payoff(state):\n",
    "    \"\"\"\n",
    "    A function calculates the payoff of a specific state based on Q values\n",
    "    Input: state (ie. [0,0,1,1])\n",
    "    Output: payoff = 4x4 matrix where each element represent the defender's payoff \n",
    "    when defender take i, and invader take action j\n",
    "    \"\"\"\n",
    "    state = list(state)\n",
    "    payoff = np.zeros([4,4])\n",
    "    for i in range(action_count):\n",
    "        defender_action = i\n",
    "        for j in range(action_count):\n",
    "            invader_action = j\n",
    "            joint_action = [defender_action, invader_action]\n",
    "            state_action_pair = tuple(state + joint_action)\n",
    "            payoff[i, j] = Q[state_action_pair]\n",
    "\n",
    "    return payoff"
   ]
  },
  {
   "cell_type": "code",
   "execution_count": 8,
   "metadata": {
    "colab": {},
    "colab_type": "code",
    "id": "p554CBq8TTkY"
   },
   "outputs": [],
   "source": [
    "def equilibrium(G_state):\n",
    "    \"\"\"\n",
    "    A function that obtains the policy for defender and invader\n",
    "    The value is calculated in both the defender and invader's perspective which are equal in value\n",
    "    and opposite in signs\n",
    "    Input: payoff matrix of a particular state (4x4 matrix)\n",
    "    Output: policy for defender and invader\n",
    "    \"\"\"\n",
    "    \n",
    "    # defender lin prog\n",
    "    c = [0, 0, 0, 0, -1]\n",
    "    defender_q = -1*np.transpose(G_state)     \n",
    "    v_coeff = np.ones((4,1))\n",
    "    Aub = np.concatenate((defender_q,v_coeff),1)\n",
    "    b = [0, 0, 0, 0]\n",
    "    Aeq = [[1, 1, 1, 1, 0]]\n",
    "    beq = [[1.]]\n",
    "    bounds = ((0,1),(0,1),(0,1),(0,1),(None, None))\n",
    "    defender_solution = linprog(c, A_ub=Aub, b_ub=b, A_eq=Aeq, b_eq=beq, bounds=bounds, method='revised simplex')\n",
    "    \n",
    "    # invader lin prog\n",
    "    c = [0, 0, 0, 0, 1]\n",
    "    invader_q = G_state\n",
    "    w_coeff = np.ones((4,1))*-1\n",
    "    Aub = np.concatenate((invader_q,w_coeff),1)\n",
    "    invader_solution = linprog(c, A_ub=Aub, b_ub=b, A_eq=Aeq, b_eq=beq, bounds=bounds, method='revised simplex')\n",
    "    \n",
    "    if defender_solution['status'] == 0:\n",
    "        defender_policy = defender_solution['x'][:4]\n",
    "    else:\n",
    "        defender_policy = np.array([0.25,0.25,0.25,0.25])\n",
    "    \n",
    "    if invader_solution['status'] == 0:\n",
    "        invader_policy = invader_solution['x'][:4]\n",
    "    else:\n",
    "        invader_policy = np.array([0.25,0.25,0.25,0.25])\n",
    "\n",
    "    return defender_policy, invader_policy"
   ]
  },
  {
   "cell_type": "code",
   "execution_count": 9,
   "metadata": {
    "colab": {},
    "colab_type": "code",
    "id": "GZVorCJCTTkf"
   },
   "outputs": [],
   "source": [
    "def choose_action(defender_policy, invader_policy, epsilon):\n",
    "    \"\"\"\n",
    "    A function that choose a joint epsilon-greedy action based on defender/invader policy\n",
    "    Input: defender_policy (1x4), invader policy (1x4), and epsilon (ie. 0.3)\n",
    "    Output: joint action index = [defender action index, invader action index] = [0 to 3, 0 to 3]\n",
    "    \"\"\"\n",
    "       \n",
    "    # choose an action type: explore (0) or exploit(1)\n",
    "    action_type = int(np.random.choice(2, 1, p=[epsilon,1-epsilon]))\n",
    "    \n",
    "    if action_type == 0:\n",
    "        \n",
    "        # randomly pick an action\n",
    "        defender_action_index = random.choice(range(4))    \n",
    "        invader_action_index = random.choice(range(4))    \n",
    "    \n",
    "    else:\n",
    "        defender_action_index = int(np.random.choice(action_count, 1, p=defender_policy.clip(0)))\n",
    "        invader_action_index = int(np.random.choice(action_count, 1, p=invader_policy.clip(0)))\n",
    "    \n",
    "    joint_action = [defender_action_index, invader_action_index]\n",
    "    \n",
    "    return joint_action"
   ]
  },
  {
   "cell_type": "code",
   "execution_count": 10,
   "metadata": {
    "colab": {},
    "colab_type": "code",
    "id": "HPUf8ycFTTki"
   },
   "outputs": [],
   "source": [
    "def generate_trajectory(Defender_state, Invader_state):\n",
    "    \n",
    "    terminal = False\n",
    "    generated = False\n",
    "   \n",
    "    # while not successful generation, repeat\n",
    "    while not generated:\n",
    "        game_step = 0\n",
    "        current_state = tuple(Defender_state + Invader_state)\n",
    "        game_trajectory = []\n",
    "        cumulated_reward = 0\n",
    "\n",
    "        while not terminal:\n",
    "            \n",
    "            generated = True    \n",
    "            \n",
    "            # append game trajectory\n",
    "            game_trajectory.append(current_state)\n",
    "\n",
    "            # check if game is terminal (someone won)\n",
    "            terminal, status = invader_defender.terminal_check(list(current_state))\n",
    "\n",
    "            invader_action = actions[int(np.random.choice(action_count, 1, p=invader_policy[tuple(current_state)].clip(0)))]\n",
    "            defender_action = actions[int(np.random.choice(action_count, 1, p=defender_policy[tuple(current_state)].clip(0)))]\n",
    "\n",
    "            # obtain next state\n",
    "            next_state, reward = invader_defender.next_state(list(current_state), defender_action, invader_action)\n",
    "            current_state = tuple(next_state)\n",
    "            cumulated_reward = cumulated_reward + reward\n",
    "            \n",
    "            game_step += 1\n",
    "            \n",
    "            # exit the game if max steps reached (implying stucked)\n",
    "            if game_step > 200:\n",
    "                generated = True     \n",
    "                break\n",
    "    \n",
    "    return game_trajectory, status, cumulated_reward, game_step"
   ]
  },
  {
   "cell_type": "markdown",
   "metadata": {
    "colab_type": "text",
    "id": "KmS1jkFbTTkl"
   },
   "source": [
    "## Minimax Q"
   ]
  },
  {
   "cell_type": "markdown",
   "metadata": {
    "colab_type": "text",
    "id": "tZ8JcJfkTTkm"
   },
   "source": [
    "### Initialization "
   ]
  },
  {
   "cell_type": "code",
   "execution_count": 11,
   "metadata": {
    "colab": {},
    "colab_type": "code",
    "id": "h0egA11cTTkn"
   },
   "outputs": [],
   "source": [
    "# initialize params\n",
    "t = 0\n",
    "T = 200\n",
    "lr = 0.9\n",
    "gamma = 0.95\n",
    "epsilon = 0.99"
   ]
  },
  {
   "cell_type": "code",
   "execution_count": 12,
   "metadata": {
    "colab": {},
    "colab_type": "code",
    "id": "ao56nCTUTTkq"
   },
   "outputs": [],
   "source": [
    "# initialize Q matrix\n",
    "state_action_pair_list = []\n",
    "\n",
    "# create every possible state action pairs: \n",
    "# 1296 states * 4 defender actions * 4 invader actions = 20736 s,a pairs\n",
    "for state in invader_defender.game_state_list:\n",
    "    for defender_action in range(action_count):\n",
    "        for invader_action in range(action_count):\n",
    "            joint_action = [defender_action, invader_action]\n",
    "            state_action_pair = list(state) + joint_action\n",
    "            state_action_pair_list.append(tuple(state_action_pair))"
   ]
  },
  {
   "cell_type": "code",
   "execution_count": 13,
   "metadata": {
    "colab": {},
    "colab_type": "code",
    "id": "aY-5C_pyTTkt"
   },
   "outputs": [],
   "source": [
    "# initialize a dictionary for Q values = {(x1, y1, x2, y2, defender_action_index, invader_action_index): q_value}\n",
    "listofzeros = [0.0] * len(state_action_pair_list)\n",
    "Q = dict(zip(state_action_pair_list, listofzeros))\n",
    "\n",
    "# initialize a dictionary for G values = {(x1, y1, x2, y2): payoff_matrix}\n",
    "listofzeros = [0.0] * len(invader_defender.game_state_list)\n",
    "for state in invader_defender.game_state_list:\n",
    "    state_list.append(state)\n",
    "G = dict(zip(state_list, listofzeros))\n",
    "\n",
    "# initialize policies\n",
    "initial_policy = []\n",
    "defender_policy = {}\n",
    "invader_policy = {}\n",
    "for i in range(len(invader_defender.game_state_list)):\n",
    "    random_policy = np.array([0.25, 0.25, 0.25, 0.25])\n",
    "    initial_policy.append(random_policy)\n",
    "defender_policy = dict(zip(state_list, initial_policy))\n",
    "invader_policy = dict(zip(state_list, initial_policy))"
   ]
  },
  {
   "cell_type": "markdown",
   "metadata": {
    "colab_type": "text",
    "id": "q_e__uH1TTkw"
   },
   "source": [
    "### Algorithm Starts "
   ]
  },
  {
   "cell_type": "code",
   "execution_count": null,
   "metadata": {
    "colab": {},
    "colab_type": "code",
    "id": "I9xRy4HYTTkw"
   },
   "outputs": [],
   "source": [
    "# # initialize states\n",
    "# defender_state = [5,0]\n",
    "# invader_state = [0,0]\n",
    "# current_state = tuple(defender_state + invader_state)"
   ]
  },
  {
   "cell_type": "code",
   "execution_count": null,
   "metadata": {
    "colab": {},
    "colab_type": "code",
    "id": "W6AN-RWETTk0"
   },
   "outputs": [],
   "source": [
    "# # build game based on Q value\n",
    "# G[current_state] = calculate_payoff(current_state)"
   ]
  },
  {
   "cell_type": "code",
   "execution_count": null,
   "metadata": {
    "colab": {
     "base_uri": "https://localhost:8080/",
     "height": 35
    },
    "colab_type": "code",
    "id": "a0F2lXb0TTk3",
    "outputId": "5ec51134-c2c2-4c77-e89f-df1991f4b115"
   },
   "outputs": [],
   "source": [
    "# # choose a policy by solving the current game\n",
    "# defender_policy[current_state], invader_policy[current_state] = equilibrium(G[current_state])"
   ]
  },
  {
   "cell_type": "code",
   "execution_count": null,
   "metadata": {
    "colab": {},
    "colab_type": "code",
    "id": "77yp5uQLTTk-"
   },
   "outputs": [],
   "source": [
    "# # initialize a dictionary for G values = {(x1, y1, x2, y2): payoff_matrix}\n",
    "# listofzeros = [0.0] * len(state_action_pair_list)\n",
    "# state_count = dict(zip(state_action_pair_list, listofzeros))"
   ]
  },
  {
   "cell_type": "code",
   "execution_count": null,
   "metadata": {
    "colab": {
     "base_uri": "https://localhost:8080/",
     "height": 35
    },
    "colab_type": "code",
    "id": "9IqqOaeBTTlA",
    "outputId": "9c5c94c2-0d82-4c06-88bb-c076537a1531"
   },
   "outputs": [],
   "source": [
    "# %%time\n",
    "\n",
    "# episodes = 10000\n",
    "# eps = 0\n",
    "# delta_list = []\n",
    "# delta = 2\n",
    "\n",
    "# # testing lists\n",
    "# testing_reward_list = []\n",
    "# testing_step_list = []\n",
    "# testing_game_status = []\n",
    "\n",
    "# # training lists\n",
    "# training_step_list = []\n",
    "# training_reward_list = []\n",
    "\n",
    "# for eps in range(episodes):\n",
    "#     t = 0\n",
    "#     delta = 0\n",
    "    \n",
    "#     training_reward = 0\n",
    "    \n",
    "#     while t < T:\n",
    "        \n",
    "#         # choose a joint based on epsilon greedy (joint_action = [a1_indx, a2_indx])\n",
    "#         joint_action = choose_action(defender_policy[current_state], invader_policy[current_state], epsilon)\n",
    "#         current_state_action_pair = tuple(list(current_state) + joint_action) # ie. (x1, y1, x2, y2, a1_indx, a2_indx)\n",
    "\n",
    "#         # decaying learning rate\n",
    "#         state_count[current_state_action_pair] += 1\n",
    "#         lr_ = lr / state_count[current_state_action_pair]\n",
    "# #         lr_ = lr    \n",
    "    \n",
    "#         # get next state and reward based on current state [x1,y1,x2,y2] and joint action [a1_indx, a2_indx]\n",
    "#         next_state, reward = invader_defender.next_state(current_state, actions[joint_action[0]], actions[joint_action[1]])\n",
    "#         next_state = tuple(next_state)\n",
    "#         training_reward += reward\n",
    "        \n",
    "#         # build a game based on next state: calculate payoff of next state\n",
    "#         G[next_state] = calculate_payoff(next_state)\n",
    "\n",
    "#         # generate a policy based on equilibirum of next game\n",
    "#         defender_policy[next_state], invader_policy[next_state] = equilibrium(G[next_state])\n",
    "\n",
    "#         # make copy of Q table\n",
    "#         Q_copy = Q[current_state_action_pair]\n",
    "\n",
    "#         # update Q[s,a] <- Q[s,a] + lr*(reward + gamma*value(s') - Q[s,a])\n",
    "#         value = calculate_value(G[next_state])\n",
    "#         Q[current_state_action_pair] = Q[current_state_action_pair] + lr_*(reward + gamma*value - Q[current_state_action_pair])\n",
    "       \n",
    "#         # if game reached terminal state, restart new episode\n",
    "#         terminal, status = invader_defender.terminal_check(list(next_state))\n",
    "#         if terminal:\n",
    "#             training_steps = t\n",
    "#             defender_state = [5,0]\n",
    "#             invader_state = [0,0]\n",
    "#             current_state = tuple(defender_state + invader_state)\n",
    "#             break\n",
    "\n",
    "#         # calculate delta\n",
    "#         delta = max(delta, abs(Q[current_state_action_pair] - Q_copy))\n",
    "                \n",
    "#         # set next state as current state\n",
    "#         current_state = next_state\n",
    "#         t+=1\n",
    "    \n",
    "#     # Training performance\n",
    "#     training_step_list.append(training_steps)\n",
    "#     training_reward_list.append(training_reward)\n",
    "    \n",
    "#     # Testing\n",
    "#     game_trajectory, status, test_reward, game_step = generate_trajectory([5,0],[0,0]) \n",
    "#     testing_reward_list.append(test_reward)\n",
    "#     testing_step_list.append(game_step)\n",
    "#     testing_game_status.append(status)\n",
    "    \n",
    "#     # Print k and current max delta\n",
    "#     clear_output(wait=True)\n",
    "#     display('episode: ' + str(eps) + ' lr: ' + str(lr_) + ' test steps: ' + str(game_step))\n",
    "#     delta_list.append(delta)"
   ]
  },
  {
   "cell_type": "code",
   "execution_count": null,
   "metadata": {
    "colab": {},
    "colab_type": "code",
    "id": "JCylUgdRTTlY"
   },
   "outputs": [],
   "source": [
    "# # policy extraction\n",
    "# for state in invader_defender.game_state_list:    \n",
    "#     G[state] = calculate_payoff(state)\n",
    "#     defender_policy[state], invader_policy[state] = equilibrium(G[state])"
   ]
  },
  {
   "cell_type": "code",
   "execution_count": null,
   "metadata": {
    "colab": {},
    "colab_type": "code",
    "id": "S3NRFG1aTTla"
   },
   "outputs": [],
   "source": [
    "# defender_policy[(5,0,0,0)]"
   ]
  },
  {
   "cell_type": "code",
   "execution_count": null,
   "metadata": {
    "colab": {},
    "colab_type": "code",
    "id": "afvykQFfTTld"
   },
   "outputs": [],
   "source": [
    "# invader_policy[(5,0,0,0)]"
   ]
  },
  {
   "cell_type": "code",
   "execution_count": null,
   "metadata": {
    "colab": {},
    "colab_type": "code",
    "id": "SYS5GP58TTlg"
   },
   "outputs": [],
   "source": [
    "# defender_policy[(5,0,1,2)]"
   ]
  },
  {
   "cell_type": "code",
   "execution_count": null,
   "metadata": {
    "colab": {},
    "colab_type": "code",
    "id": "qx3fQ8AqTTlj"
   },
   "outputs": [],
   "source": [
    "# invader_policy[(5,0,1,2)]"
   ]
  },
  {
   "cell_type": "markdown",
   "metadata": {},
   "source": [
    "## Pickle Training/Testing Data "
   ]
  },
  {
   "cell_type": "code",
   "execution_count": null,
   "metadata": {
    "colab": {},
    "colab_type": "code",
    "id": "eXtXnGVITTlp"
   },
   "outputs": [],
   "source": [
    "# with open('Q_minimax.pickle', 'wb') as handle:\n",
    "#     pickle.dump(Q, handle)\n",
    "\n",
    "# with open('G_minimax.pickle', 'wb') as handle:\n",
    "#     pickle.dump(G, handle)"
   ]
  },
  {
   "cell_type": "code",
   "execution_count": null,
   "metadata": {},
   "outputs": [],
   "source": [
    "# # training results\n",
    "# with open('training_reward_list_minimax.pickle', 'wb') as handle:\n",
    "#     pickle.dump(training_reward_list, handle)\n",
    "\n",
    "# with open('training_step_list_minimax.pickle', 'wb') as handle:\n",
    "#     pickle.dump(training_step_list, handle)\n",
    "    \n",
    "# with open('delta_list_minimax.pickle', 'wb') as handle:\n",
    "#     pickle.dump(delta_list, handle)"
   ]
  },
  {
   "cell_type": "code",
   "execution_count": null,
   "metadata": {},
   "outputs": [],
   "source": [
    "# # testing results\n",
    "# with open('testing_reward_list_minimax.pickle', 'wb') as handle:\n",
    "#     pickle.dump(testing_reward_list, handle)\n",
    "\n",
    "# with open('testing_step_list_minimax.pickle', 'wb') as handle:\n",
    "#     pickle.dump(testing_step_list, handle)\n",
    "    \n",
    "# with open('testing_game_status_minimax.pickle', 'wb') as handle:\n",
    "#     pickle.dump(testing_game_status, handle)"
   ]
  },
  {
   "cell_type": "code",
   "execution_count": null,
   "metadata": {},
   "outputs": [],
   "source": [
    "# # policies\n",
    "# with open('defender_policy_minimax.pickle', 'wb') as handle:\n",
    "#     pickle.dump(defender_policy, handle)\n",
    "    \n",
    "# with open('invader_policy_minimax.pickle', 'wb') as handle:\n",
    "#     pickle.dump(invader_policy, handle)"
   ]
  },
  {
   "cell_type": "markdown",
   "metadata": {},
   "source": [
    "## Load Data "
   ]
  },
  {
   "cell_type": "code",
   "execution_count": 14,
   "metadata": {},
   "outputs": [],
   "source": [
    "with open ('Q_minimax.pickle', 'rb') as handle:\n",
    "    Q = pickle.load(handle)\n",
    "    \n",
    "with open ('G_minimax.pickle', 'rb') as handle:\n",
    "    G = pickle.load(handle)"
   ]
  },
  {
   "cell_type": "code",
   "execution_count": 19,
   "metadata": {},
   "outputs": [],
   "source": [
    "# training results\n",
    "with open('training_step_list_minimax.pickle', 'rb') as handle:\n",
    "    training_step_list = pickle.load(handle)\n",
    "    \n",
    "with open('delta_list_minimax.pickle', 'rb') as handle:\n",
    "    delta_list = pickle.load(handle)"
   ]
  },
  {
   "cell_type": "code",
   "execution_count": 31,
   "metadata": {},
   "outputs": [],
   "source": [
    "# testing results\n",
    "with open('testing_step_list_minimax.pickle', 'rb') as handle:\n",
    "    testing_step_list = pickle.load(handle)\n",
    "    \n",
    "with open('testing_game_status_minimax.pickle', 'rb') as handle:\n",
    "    testing_game_status = pickle.load(handle)"
   ]
  },
  {
   "cell_type": "code",
   "execution_count": 32,
   "metadata": {},
   "outputs": [],
   "source": [
    "# policies\n",
    "with open('defender_policy_minimax.pickle', 'rb') as handle:\n",
    "    defender_policy = pickle.load(handle)\n",
    "    \n",
    "with open('invader_policy_minimax.pickle', 'rb') as handle:\n",
    "    invader_policy = pickle.load(handle)"
   ]
  },
  {
   "cell_type": "markdown",
   "metadata": {},
   "source": [
    "## Plot Training Performance "
   ]
  },
  {
   "cell_type": "code",
   "execution_count": 23,
   "metadata": {
    "colab": {},
    "colab_type": "code",
    "id": "6iZOKExlTTlV"
   },
   "outputs": [
    {
     "data": {
      "image/png": "[encoded data removed]",
      "text/plain": [
       "<Figure size 432x288 with 1 Axes>"
      ]
     },
     "metadata": {
      "needs_background": "light"
     },
     "output_type": "display_data"
    }
   ],
   "source": [
    "# Q delta\n",
    "plt.plot(delta_list)\n",
    "plt.title('Q Delta')\n",
    "plt.xlabel('Episode')\n",
    "plt.ylabel('Delta')\n",
    "\n",
    "# plot moving average\n",
    "reward_frame = pd.DataFrame(delta_list)\n",
    "rolling_mean = reward_frame.rolling(window=200).mean()\n",
    "plt.plot(rolling_mean, label='Moving Average', color='orange')\n",
    "plt.legend()\n",
    "plt.show()"
   ]
  },
  {
   "cell_type": "code",
   "execution_count": 22,
   "metadata": {},
   "outputs": [
    {
     "ename": "NameError",
     "evalue": "name 'training_reward_list' is not defined",
     "output_type": "error",
     "traceback": [
      "\u001b[0;31m---------------------------------------------------------------------------\u001b[0m",
      "\u001b[0;31mNameError\u001b[0m                                 Traceback (most recent call last)",
      "\u001b[0;32m<ipython-input-22-0f5edbf1e5f3>\u001b[0m in \u001b[0;36m<module>\u001b[0;34m\u001b[0m\n\u001b[1;32m      1\u001b[0m \u001b[0;31m# reward per episode\u001b[0m\u001b[0;34m\u001b[0m\u001b[0;34m\u001b[0m\u001b[0m\n\u001b[0;32m----> 2\u001b[0;31m \u001b[0mplt\u001b[0m\u001b[0;34m.\u001b[0m\u001b[0mplot\u001b[0m\u001b[0;34m(\u001b[0m\u001b[0mtraining_reward_list\u001b[0m\u001b[0;34m)\u001b[0m\u001b[0;34m\u001b[0m\u001b[0m\n\u001b[0m\u001b[1;32m      3\u001b[0m \u001b[0mplt\u001b[0m\u001b[0;34m.\u001b[0m\u001b[0mtitle\u001b[0m\u001b[0;34m(\u001b[0m\u001b[0;34m'Training Reward per Episode'\u001b[0m\u001b[0;34m)\u001b[0m\u001b[0;34m\u001b[0m\u001b[0m\n\u001b[1;32m      4\u001b[0m \u001b[0mplt\u001b[0m\u001b[0;34m.\u001b[0m\u001b[0mxlabel\u001b[0m\u001b[0;34m(\u001b[0m\u001b[0;34m'Episode'\u001b[0m\u001b[0;34m)\u001b[0m\u001b[0;34m\u001b[0m\u001b[0m\n\u001b[1;32m      5\u001b[0m \u001b[0mplt\u001b[0m\u001b[0;34m.\u001b[0m\u001b[0mylabel\u001b[0m\u001b[0;34m(\u001b[0m\u001b[0;34m'Reward'\u001b[0m\u001b[0;34m)\u001b[0m\u001b[0;34m\u001b[0m\u001b[0m\n",
      "\u001b[0;31mNameError\u001b[0m: name 'training_reward_list' is not defined"
     ]
    }
   ],
   "source": [
    "# reward per episode\n",
    "plt.plot(training_reward_list)\n",
    "plt.title('Training Reward per Episode')\n",
    "plt.xlabel('Episode')\n",
    "plt.ylabel('Reward')\n",
    "\n",
    "# plot moving average\n",
    "reward_frame = pd.DataFrame(training_reward_list)\n",
    "rolling_mean = reward_frame.rolling(window=200).mean()\n",
    "plt.plot(rolling_mean, label='Moving Average', color='orange')\n",
    "plt.legend()\n",
    "plt.show()"
   ]
  },
  {
   "cell_type": "code",
   "execution_count": 25,
   "metadata": {},
   "outputs": [
    {
     "data": {
      "image/png": "[encoded data removed]",
      "text/plain": [
       "<Figure size 432x288 with 1 Axes>"
      ]
     },
     "metadata": {
      "needs_background": "light"
     },
     "output_type": "display_data"
    }
   ],
   "source": [
    "# steps per eipsode\n",
    "plt.plot(training_step_list)\n",
    "plt.title('Training Game Steps')\n",
    "plt.xlabel('Episode')\n",
    "plt.ylabel('Steps')\n",
    "\n",
    "# plot moving average\n",
    "reward_frame = pd.DataFrame(training_step_list)\n",
    "rolling_mean = reward_frame.rolling(window=200).mean()\n",
    "plt.plot(rolling_mean, label='Moving Average', color='orange')\n",
    "plt.legend()\n",
    "plt.show()"
   ]
  },
  {
   "cell_type": "markdown",
   "metadata": {},
   "source": [
    "## Plot Testing Performance "
   ]
  },
  {
   "cell_type": "code",
   "execution_count": 26,
   "metadata": {
    "colab": {},
    "colab_type": "code",
    "id": "vli_xO-HTTlD"
   },
   "outputs": [
    {
     "ename": "NameError",
     "evalue": "name 'testing_reward_list' is not defined",
     "output_type": "error",
     "traceback": [
      "\u001b[0;31m---------------------------------------------------------------------------\u001b[0m",
      "\u001b[0;31mNameError\u001b[0m                                 Traceback (most recent call last)",
      "\u001b[0;32m<ipython-input-26-8a5a415b7de6>\u001b[0m in \u001b[0;36m<module>\u001b[0;34m\u001b[0m\n\u001b[1;32m      1\u001b[0m \u001b[0;31m# reward per episode\u001b[0m\u001b[0;34m\u001b[0m\u001b[0;34m\u001b[0m\u001b[0m\n\u001b[0;32m----> 2\u001b[0;31m \u001b[0mplt\u001b[0m\u001b[0;34m.\u001b[0m\u001b[0mplot\u001b[0m\u001b[0;34m(\u001b[0m\u001b[0mtesting_reward_list\u001b[0m\u001b[0;34m)\u001b[0m\u001b[0;34m\u001b[0m\u001b[0m\n\u001b[0m\u001b[1;32m      3\u001b[0m \u001b[0mplt\u001b[0m\u001b[0;34m.\u001b[0m\u001b[0mtitle\u001b[0m\u001b[0;34m(\u001b[0m\u001b[0;34m'Testing Reward per Episode'\u001b[0m\u001b[0;34m)\u001b[0m\u001b[0;34m\u001b[0m\u001b[0m\n\u001b[1;32m      4\u001b[0m \u001b[0mplt\u001b[0m\u001b[0;34m.\u001b[0m\u001b[0mxlabel\u001b[0m\u001b[0;34m(\u001b[0m\u001b[0;34m'Episode'\u001b[0m\u001b[0;34m)\u001b[0m\u001b[0;34m\u001b[0m\u001b[0m\n\u001b[1;32m      5\u001b[0m \u001b[0mplt\u001b[0m\u001b[0;34m.\u001b[0m\u001b[0mylabel\u001b[0m\u001b[0;34m(\u001b[0m\u001b[0;34m'Reward'\u001b[0m\u001b[0;34m)\u001b[0m\u001b[0;34m\u001b[0m\u001b[0m\n",
      "\u001b[0;31mNameError\u001b[0m: name 'testing_reward_list' is not defined"
     ]
    }
   ],
   "source": [
    "# reward per episode\n",
    "plt.plot(testing_reward_list)\n",
    "plt.title('Testing Reward per Episode')\n",
    "plt.xlabel('Episode')\n",
    "plt.ylabel('Reward')\n",
    "\n",
    "# plot moving average\n",
    "reward_frame = pd.DataFrame(testing_reward_list)\n",
    "rolling_mean = reward_frame.rolling(window=200).mean()\n",
    "plt.plot(rolling_mean, label='Moving Average', color='orange')\n",
    "plt.legend()\n",
    "plt.show()"
   ]
  },
  {
   "cell_type": "code",
   "execution_count": 33,
   "metadata": {},
   "outputs": [
    {
     "ename": "TypeError",
     "evalue": "float() argument must be a string or a number, not 'dict'",
     "output_type": "error",
     "traceback": [
      "\u001b[0;31m---------------------------------------------------------------------------\u001b[0m",
      "\u001b[0;31mTypeError\u001b[0m                                 Traceback (most recent call last)",
      "\u001b[0;32m<ipython-input-33-7fdde727da1b>\u001b[0m in \u001b[0;36m<module>\u001b[0;34m\u001b[0m\n\u001b[1;32m      1\u001b[0m \u001b[0;31m# steps per eipsode\u001b[0m\u001b[0;34m\u001b[0m\u001b[0;34m\u001b[0m\u001b[0m\n\u001b[0;32m----> 2\u001b[0;31m \u001b[0mplt\u001b[0m\u001b[0;34m.\u001b[0m\u001b[0mplot\u001b[0m\u001b[0;34m(\u001b[0m\u001b[0mtesting_step_list\u001b[0m\u001b[0;34m)\u001b[0m\u001b[0;34m\u001b[0m\u001b[0m\n\u001b[0m\u001b[1;32m      3\u001b[0m \u001b[0mplt\u001b[0m\u001b[0;34m.\u001b[0m\u001b[0mtitle\u001b[0m\u001b[0;34m(\u001b[0m\u001b[0;34m'Testing Game Steps per Episode'\u001b[0m\u001b[0;34m)\u001b[0m\u001b[0;34m\u001b[0m\u001b[0m\n\u001b[1;32m      4\u001b[0m \u001b[0mplt\u001b[0m\u001b[0;34m.\u001b[0m\u001b[0mxlabel\u001b[0m\u001b[0;34m(\u001b[0m\u001b[0;34m'Episode'\u001b[0m\u001b[0;34m)\u001b[0m\u001b[0;34m\u001b[0m\u001b[0m\n\u001b[1;32m      5\u001b[0m \u001b[0mplt\u001b[0m\u001b[0;34m.\u001b[0m\u001b[0mylabel\u001b[0m\u001b[0;34m(\u001b[0m\u001b[0;34m'Reward'\u001b[0m\u001b[0;34m)\u001b[0m\u001b[0;34m\u001b[0m\u001b[0m\n",
      "\u001b[0;32m~/.local/lib/python3.5/site-packages/matplotlib/pyplot.py\u001b[0m in \u001b[0;36mplot\u001b[0;34m(scalex, scaley, data, *args, **kwargs)\u001b[0m\n\u001b[1;32m   2809\u001b[0m     return gca().plot(\n\u001b[1;32m   2810\u001b[0m         *args, scalex=scalex, scaley=scaley, **({\"data\": data} if data\n\u001b[0;32m-> 2811\u001b[0;31m         is not None else {}), **kwargs)\n\u001b[0m\u001b[1;32m   2812\u001b[0m \u001b[0;34m\u001b[0m\u001b[0m\n\u001b[1;32m   2813\u001b[0m \u001b[0;34m\u001b[0m\u001b[0m\n",
      "\u001b[0;32m~/.local/lib/python3.5/site-packages/matplotlib/__init__.py\u001b[0m in \u001b[0;36minner\u001b[0;34m(ax, data, *args, **kwargs)\u001b[0m\n\u001b[1;32m   1808\u001b[0m                         \u001b[0;34m\"the Matplotlib list!)\"\u001b[0m \u001b[0;34m%\u001b[0m \u001b[0;34m(\u001b[0m\u001b[0mlabel_namer\u001b[0m\u001b[0;34m,\u001b[0m \u001b[0mfunc\u001b[0m\u001b[0;34m.\u001b[0m\u001b[0m__name__\u001b[0m\u001b[0;34m)\u001b[0m\u001b[0;34m,\u001b[0m\u001b[0;34m\u001b[0m\u001b[0m\n\u001b[1;32m   1809\u001b[0m                         RuntimeWarning, stacklevel=2)\n\u001b[0;32m-> 1810\u001b[0;31m             \u001b[0;32mreturn\u001b[0m \u001b[0mfunc\u001b[0m\u001b[0;34m(\u001b[0m\u001b[0max\u001b[0m\u001b[0;34m,\u001b[0m \u001b[0;34m*\u001b[0m\u001b[0margs\u001b[0m\u001b[0;34m,\u001b[0m \u001b[0;34m**\u001b[0m\u001b[0mkwargs\u001b[0m\u001b[0;34m)\u001b[0m\u001b[0;34m\u001b[0m\u001b[0m\n\u001b[0m\u001b[1;32m   1811\u001b[0m \u001b[0;34m\u001b[0m\u001b[0m\n\u001b[1;32m   1812\u001b[0m         inner.__doc__ = _add_data_doc(inner.__doc__,\n",
      "\u001b[0;32m~/.local/lib/python3.5/site-packages/matplotlib/axes/_axes.py\u001b[0m in \u001b[0;36mplot\u001b[0;34m(self, scalex, scaley, *args, **kwargs)\u001b[0m\n\u001b[1;32m   1610\u001b[0m \u001b[0;34m\u001b[0m\u001b[0m\n\u001b[1;32m   1611\u001b[0m         \u001b[0;32mfor\u001b[0m \u001b[0mline\u001b[0m \u001b[0;32min\u001b[0m \u001b[0mself\u001b[0m\u001b[0;34m.\u001b[0m\u001b[0m_get_lines\u001b[0m\u001b[0;34m(\u001b[0m\u001b[0;34m*\u001b[0m\u001b[0margs\u001b[0m\u001b[0;34m,\u001b[0m \u001b[0;34m**\u001b[0m\u001b[0mkwargs\u001b[0m\u001b[0;34m)\u001b[0m\u001b[0;34m:\u001b[0m\u001b[0;34m\u001b[0m\u001b[0m\n\u001b[0;32m-> 1612\u001b[0;31m             \u001b[0mself\u001b[0m\u001b[0;34m.\u001b[0m\u001b[0madd_line\u001b[0m\u001b[0;34m(\u001b[0m\u001b[0mline\u001b[0m\u001b[0;34m)\u001b[0m\u001b[0;34m\u001b[0m\u001b[0m\n\u001b[0m\u001b[1;32m   1613\u001b[0m             \u001b[0mlines\u001b[0m\u001b[0;34m.\u001b[0m\u001b[0mappend\u001b[0m\u001b[0;34m(\u001b[0m\u001b[0mline\u001b[0m\u001b[0;34m)\u001b[0m\u001b[0;34m\u001b[0m\u001b[0m\n\u001b[1;32m   1614\u001b[0m \u001b[0;34m\u001b[0m\u001b[0m\n",
      "\u001b[0;32m~/.local/lib/python3.5/site-packages/matplotlib/axes/_base.py\u001b[0m in \u001b[0;36madd_line\u001b[0;34m(self, line)\u001b[0m\n\u001b[1;32m   1893\u001b[0m             \u001b[0mline\u001b[0m\u001b[0;34m.\u001b[0m\u001b[0mset_clip_path\u001b[0m\u001b[0;34m(\u001b[0m\u001b[0mself\u001b[0m\u001b[0;34m.\u001b[0m\u001b[0mpatch\u001b[0m\u001b[0;34m)\u001b[0m\u001b[0;34m\u001b[0m\u001b[0m\n\u001b[1;32m   1894\u001b[0m \u001b[0;34m\u001b[0m\u001b[0m\n\u001b[0;32m-> 1895\u001b[0;31m         \u001b[0mself\u001b[0m\u001b[0;34m.\u001b[0m\u001b[0m_update_line_limits\u001b[0m\u001b[0;34m(\u001b[0m\u001b[0mline\u001b[0m\u001b[0;34m)\u001b[0m\u001b[0;34m\u001b[0m\u001b[0m\n\u001b[0m\u001b[1;32m   1896\u001b[0m         \u001b[0;32mif\u001b[0m \u001b[0;32mnot\u001b[0m \u001b[0mline\u001b[0m\u001b[0;34m.\u001b[0m\u001b[0mget_label\u001b[0m\u001b[0;34m(\u001b[0m\u001b[0;34m)\u001b[0m\u001b[0;34m:\u001b[0m\u001b[0;34m\u001b[0m\u001b[0m\n\u001b[1;32m   1897\u001b[0m             \u001b[0mline\u001b[0m\u001b[0;34m.\u001b[0m\u001b[0mset_label\u001b[0m\u001b[0;34m(\u001b[0m\u001b[0;34m'_line%d'\u001b[0m \u001b[0;34m%\u001b[0m \u001b[0mlen\u001b[0m\u001b[0;34m(\u001b[0m\u001b[0mself\u001b[0m\u001b[0;34m.\u001b[0m\u001b[0mlines\u001b[0m\u001b[0;34m)\u001b[0m\u001b[0;34m)\u001b[0m\u001b[0;34m\u001b[0m\u001b[0m\n",
      "\u001b[0;32m~/.local/lib/python3.5/site-packages/matplotlib/axes/_base.py\u001b[0m in \u001b[0;36m_update_line_limits\u001b[0;34m(self, line)\u001b[0m\n\u001b[1;32m   1915\u001b[0m         \u001b[0mFigures\u001b[0m \u001b[0mout\u001b[0m \u001b[0mthe\u001b[0m \u001b[0mdata\u001b[0m \u001b[0mlimit\u001b[0m \u001b[0mof\u001b[0m \u001b[0mthe\u001b[0m \u001b[0mgiven\u001b[0m \u001b[0mline\u001b[0m\u001b[0;34m,\u001b[0m \u001b[0mupdating\u001b[0m \u001b[0mself\u001b[0m\u001b[0;34m.\u001b[0m\u001b[0mdataLim\u001b[0m\u001b[0;34m.\u001b[0m\u001b[0;34m\u001b[0m\u001b[0m\n\u001b[1;32m   1916\u001b[0m         \"\"\"\n\u001b[0;32m-> 1917\u001b[0;31m         \u001b[0mpath\u001b[0m \u001b[0;34m=\u001b[0m \u001b[0mline\u001b[0m\u001b[0;34m.\u001b[0m\u001b[0mget_path\u001b[0m\u001b[0;34m(\u001b[0m\u001b[0;34m)\u001b[0m\u001b[0;34m\u001b[0m\u001b[0m\n\u001b[0m\u001b[1;32m   1918\u001b[0m         \u001b[0;32mif\u001b[0m \u001b[0mpath\u001b[0m\u001b[0;34m.\u001b[0m\u001b[0mvertices\u001b[0m\u001b[0;34m.\u001b[0m\u001b[0msize\u001b[0m \u001b[0;34m==\u001b[0m \u001b[0;36m0\u001b[0m\u001b[0;34m:\u001b[0m\u001b[0;34m\u001b[0m\u001b[0m\n\u001b[1;32m   1919\u001b[0m             \u001b[0;32mreturn\u001b[0m\u001b[0;34m\u001b[0m\u001b[0m\n",
      "\u001b[0;32m~/.local/lib/python3.5/site-packages/matplotlib/lines.py\u001b[0m in \u001b[0;36mget_path\u001b[0;34m(self)\u001b[0m\n\u001b[1;32m    943\u001b[0m         \"\"\"\n\u001b[1;32m    944\u001b[0m         \u001b[0;32mif\u001b[0m \u001b[0mself\u001b[0m\u001b[0;34m.\u001b[0m\u001b[0m_invalidy\u001b[0m \u001b[0;32mor\u001b[0m \u001b[0mself\u001b[0m\u001b[0;34m.\u001b[0m\u001b[0m_invalidx\u001b[0m\u001b[0;34m:\u001b[0m\u001b[0;34m\u001b[0m\u001b[0m\n\u001b[0;32m--> 945\u001b[0;31m             \u001b[0mself\u001b[0m\u001b[0;34m.\u001b[0m\u001b[0mrecache\u001b[0m\u001b[0;34m(\u001b[0m\u001b[0;34m)\u001b[0m\u001b[0;34m\u001b[0m\u001b[0m\n\u001b[0m\u001b[1;32m    946\u001b[0m         \u001b[0;32mreturn\u001b[0m \u001b[0mself\u001b[0m\u001b[0;34m.\u001b[0m\u001b[0m_path\u001b[0m\u001b[0;34m\u001b[0m\u001b[0m\n\u001b[1;32m    947\u001b[0m \u001b[0;34m\u001b[0m\u001b[0m\n",
      "\u001b[0;32m~/.local/lib/python3.5/site-packages/matplotlib/lines.py\u001b[0m in \u001b[0;36mrecache\u001b[0;34m(self, always)\u001b[0m\n\u001b[1;32m    643\u001b[0m         \u001b[0;32mif\u001b[0m \u001b[0malways\u001b[0m \u001b[0;32mor\u001b[0m \u001b[0mself\u001b[0m\u001b[0;34m.\u001b[0m\u001b[0m_invalidy\u001b[0m\u001b[0;34m:\u001b[0m\u001b[0;34m\u001b[0m\u001b[0m\n\u001b[1;32m    644\u001b[0m             \u001b[0myconv\u001b[0m \u001b[0;34m=\u001b[0m \u001b[0mself\u001b[0m\u001b[0;34m.\u001b[0m\u001b[0mconvert_yunits\u001b[0m\u001b[0;34m(\u001b[0m\u001b[0mself\u001b[0m\u001b[0;34m.\u001b[0m\u001b[0m_yorig\u001b[0m\u001b[0;34m)\u001b[0m\u001b[0;34m\u001b[0m\u001b[0m\n\u001b[0;32m--> 645\u001b[0;31m             \u001b[0my\u001b[0m \u001b[0;34m=\u001b[0m \u001b[0m_to_unmasked_float_array\u001b[0m\u001b[0;34m(\u001b[0m\u001b[0myconv\u001b[0m\u001b[0;34m)\u001b[0m\u001b[0;34m.\u001b[0m\u001b[0mravel\u001b[0m\u001b[0;34m(\u001b[0m\u001b[0;34m)\u001b[0m\u001b[0;34m\u001b[0m\u001b[0m\n\u001b[0m\u001b[1;32m    646\u001b[0m         \u001b[0;32melse\u001b[0m\u001b[0;34m:\u001b[0m\u001b[0;34m\u001b[0m\u001b[0m\n\u001b[1;32m    647\u001b[0m             \u001b[0my\u001b[0m \u001b[0;34m=\u001b[0m \u001b[0mself\u001b[0m\u001b[0;34m.\u001b[0m\u001b[0m_y\u001b[0m\u001b[0;34m\u001b[0m\u001b[0m\n",
      "\u001b[0;32m~/.local/lib/python3.5/site-packages/matplotlib/cbook/__init__.py\u001b[0m in \u001b[0;36m_to_unmasked_float_array\u001b[0;34m(x)\u001b[0m\n\u001b[1;32m   1363\u001b[0m         \u001b[0;32mreturn\u001b[0m \u001b[0mnp\u001b[0m\u001b[0;34m.\u001b[0m\u001b[0mma\u001b[0m\u001b[0;34m.\u001b[0m\u001b[0masarray\u001b[0m\u001b[0;34m(\u001b[0m\u001b[0mx\u001b[0m\u001b[0;34m,\u001b[0m \u001b[0mfloat\u001b[0m\u001b[0;34m)\u001b[0m\u001b[0;34m.\u001b[0m\u001b[0mfilled\u001b[0m\u001b[0;34m(\u001b[0m\u001b[0mnp\u001b[0m\u001b[0;34m.\u001b[0m\u001b[0mnan\u001b[0m\u001b[0;34m)\u001b[0m\u001b[0;34m\u001b[0m\u001b[0m\n\u001b[1;32m   1364\u001b[0m     \u001b[0;32melse\u001b[0m\u001b[0;34m:\u001b[0m\u001b[0;34m\u001b[0m\u001b[0m\n\u001b[0;32m-> 1365\u001b[0;31m         \u001b[0;32mreturn\u001b[0m \u001b[0mnp\u001b[0m\u001b[0;34m.\u001b[0m\u001b[0masarray\u001b[0m\u001b[0;34m(\u001b[0m\u001b[0mx\u001b[0m\u001b[0;34m,\u001b[0m \u001b[0mfloat\u001b[0m\u001b[0;34m)\u001b[0m\u001b[0;34m\u001b[0m\u001b[0m\n\u001b[0m\u001b[1;32m   1366\u001b[0m \u001b[0;34m\u001b[0m\u001b[0m\n\u001b[1;32m   1367\u001b[0m \u001b[0;34m\u001b[0m\u001b[0m\n",
      "\u001b[0;32m~/.local/lib/python3.5/site-packages/numpy/core/_asarray.py\u001b[0m in \u001b[0;36masarray\u001b[0;34m(a, dtype, order)\u001b[0m\n\u001b[1;32m     83\u001b[0m \u001b[0;34m\u001b[0m\u001b[0m\n\u001b[1;32m     84\u001b[0m     \"\"\"\n\u001b[0;32m---> 85\u001b[0;31m     \u001b[0;32mreturn\u001b[0m \u001b[0marray\u001b[0m\u001b[0;34m(\u001b[0m\u001b[0ma\u001b[0m\u001b[0;34m,\u001b[0m \u001b[0mdtype\u001b[0m\u001b[0;34m,\u001b[0m \u001b[0mcopy\u001b[0m\u001b[0;34m=\u001b[0m\u001b[0;32mFalse\u001b[0m\u001b[0;34m,\u001b[0m \u001b[0morder\u001b[0m\u001b[0;34m=\u001b[0m\u001b[0morder\u001b[0m\u001b[0;34m)\u001b[0m\u001b[0;34m\u001b[0m\u001b[0m\n\u001b[0m\u001b[1;32m     86\u001b[0m \u001b[0;34m\u001b[0m\u001b[0m\n\u001b[1;32m     87\u001b[0m \u001b[0;34m\u001b[0m\u001b[0m\n",
      "\u001b[0;31mTypeError\u001b[0m: float() argument must be a string or a number, not 'dict'"
     ]
    },
    {
     "data": {
      "image/png": "[encoded data removed]",
      "text/plain": [
       "<Figure size 432x288 with 1 Axes>"
      ]
     },
     "metadata": {
      "needs_background": "light"
     },
     "output_type": "display_data"
    }
   ],
   "source": [
    "# steps per eipsode\n",
    "plt.plot(testing_step_list)\n",
    "plt.title('Testing Game Steps per Episode')\n",
    "plt.xlabel('Episode')\n",
    "plt.ylabel('Steps')\n",
    "\n",
    "# plot moving average\n",
    "reward_frame = pd.DataFrame(testing_step_list)\n",
    "rolling_mean = reward_frame.rolling(window=200).mean()\n",
    "plt.plot(rolling_mean, label='Moving Average', color='orange')\n",
    "plt.legend()\n",
    "plt.show()"
   ]
  },
  {
   "cell_type": "code",
   "execution_count": 35,
   "metadata": {},
   "outputs": [
    {
     "data": {
      "text/plain": [
       "Defender Won        9295\n",
       "Game in Progress     655\n",
       "Invader Won           50\n",
       "Name: 0, dtype: int64"
      ]
     },
     "execution_count": 35,
     "metadata": {},
     "output_type": "execute_result"
    }
   ],
   "source": [
    "game_status_frame = pd.DataFrame(testing_game_status)\n",
    "game_status_frame[0].value_counts()"
   ]
  },
  {
   "cell_type": "code",
   "execution_count": 36,
   "metadata": {
    "colab": {},
    "colab_type": "code",
    "id": "KbQnDgMgTTlG"
   },
   "outputs": [
    {
     "ename": "NameError",
     "evalue": "name 'testing_reward_list' is not defined",
     "output_type": "error",
     "traceback": [
      "\u001b[0;31m---------------------------------------------------------------------------\u001b[0m",
      "\u001b[0;31mNameError\u001b[0m                                 Traceback (most recent call last)",
      "\u001b[0;32m<ipython-input-36-2ddc85027a74>\u001b[0m in \u001b[0;36m<module>\u001b[0;34m\u001b[0m\n\u001b[1;32m      2\u001b[0m \u001b[0msum_reward\u001b[0m \u001b[0;34m=\u001b[0m \u001b[0;36m0\u001b[0m\u001b[0;34m\u001b[0m\u001b[0m\n\u001b[1;32m      3\u001b[0m \u001b[0msum_reward_list\u001b[0m \u001b[0;34m=\u001b[0m \u001b[0;34m[\u001b[0m\u001b[0;34m]\u001b[0m\u001b[0;34m\u001b[0m\u001b[0m\n\u001b[0;32m----> 4\u001b[0;31m \u001b[0;32mfor\u001b[0m \u001b[0mi\u001b[0m \u001b[0;32min\u001b[0m \u001b[0mrange\u001b[0m\u001b[0;34m(\u001b[0m\u001b[0mlen\u001b[0m\u001b[0;34m(\u001b[0m\u001b[0mtesting_reward_list\u001b[0m\u001b[0;34m)\u001b[0m\u001b[0;34m)\u001b[0m\u001b[0;34m:\u001b[0m\u001b[0;34m\u001b[0m\u001b[0m\n\u001b[0m\u001b[1;32m      5\u001b[0m     \u001b[0msum_reward\u001b[0m \u001b[0;34m=\u001b[0m \u001b[0msum_reward\u001b[0m \u001b[0;34m+\u001b[0m \u001b[0mtesting_reward_list\u001b[0m\u001b[0;34m[\u001b[0m\u001b[0mi\u001b[0m\u001b[0;34m]\u001b[0m\u001b[0;34m\u001b[0m\u001b[0m\n\u001b[1;32m      6\u001b[0m     \u001b[0msum_reward_list\u001b[0m\u001b[0;34m.\u001b[0m\u001b[0mappend\u001b[0m\u001b[0;34m(\u001b[0m\u001b[0msum_reward\u001b[0m\u001b[0;34m)\u001b[0m\u001b[0;34m\u001b[0m\u001b[0m\n",
      "\u001b[0;31mNameError\u001b[0m: name 'testing_reward_list' is not defined"
     ]
    }
   ],
   "source": [
    "# defender reward\n",
    "sum_reward = 0\n",
    "sum_reward_list = []\n",
    "for i in range(len(testing_reward_list)):\n",
    "    sum_reward = sum_reward + testing_reward_list[i]\n",
    "    sum_reward_list.append(sum_reward)\n",
    "    \n",
    "plt.plot(sum_reward_list)\n",
    "plt.title('Cumulative Test Reward for Defender')\n",
    "plt.xlabel('Episode')\n",
    "plt.ylabel('Reward')"
   ]
  },
  {
   "cell_type": "code",
   "execution_count": null,
   "metadata": {
    "colab": {},
    "colab_type": "code",
    "id": "9ourMzzUTTlP"
   },
   "outputs": [],
   "source": [
    "# invader reward\n",
    "sum_reward = 0\n",
    "sum_reward_list = []\n",
    "for i in range(len(testing_reward_list)):\n",
    "    sum_reward = sum_reward + (testing_reward_list[i]*-1)\n",
    "    sum_reward_list.append(sum_reward)\n",
    "    \n",
    "plt.plot(sum_reward_list)\n",
    "plt.title('Cumulative Test Reward for Invader')\n",
    "plt.xlabel('Episode')\n",
    "plt.ylabel('Reward')"
   ]
  },
  {
   "cell_type": "markdown",
   "metadata": {},
   "source": [
    "## Policy Analysis "
   ]
  },
  {
   "cell_type": "code",
   "execution_count": 37,
   "metadata": {},
   "outputs": [],
   "source": [
    "def non_deterministic_states(policy):\n",
    "    result = {}\n",
    "    for key in policy.keys():\n",
    "        rounded_policy = policy[key].round(2)\n",
    "        if not (rounded_policy == 1).any():\n",
    "            result[key] = rounded_policy\n",
    "    return result"
   ]
  },
  {
   "cell_type": "markdown",
   "metadata": {},
   "source": [
    "### Defender Policy "
   ]
  },
  {
   "cell_type": "code",
   "execution_count": 38,
   "metadata": {},
   "outputs": [],
   "source": [
    "nondet_defender = non_deterministic_states(defender_policy)"
   ]
  },
  {
   "cell_type": "code",
   "execution_count": 39,
   "metadata": {},
   "outputs": [
    {
     "data": {
      "text/plain": [
       "450"
      ]
     },
     "execution_count": 39,
     "metadata": {},
     "output_type": "execute_result"
    }
   ],
   "source": [
    "# length of non deterministic defender policy\n",
    "len(nondet_defender)"
   ]
  },
  {
   "cell_type": "markdown",
   "metadata": {},
   "source": [
    "### Invader Policy "
   ]
  },
  {
   "cell_type": "code",
   "execution_count": 40,
   "metadata": {},
   "outputs": [],
   "source": [
    "nondet_invader = non_deterministic_states(invader_policy)"
   ]
  },
  {
   "cell_type": "code",
   "execution_count": 41,
   "metadata": {},
   "outputs": [
    {
     "data": {
      "text/plain": [
       "432"
      ]
     },
     "execution_count": 41,
     "metadata": {},
     "output_type": "execute_result"
    }
   ],
   "source": [
    "# length of non deterministic invader policy\n",
    "len(nondet_invader)"
   ]
  },
  {
   "cell_type": "markdown",
   "metadata": {
    "colab_type": "text",
    "id": "UBUuyQswTTl3"
   },
   "source": [
    "## Heatmap"
   ]
  },
  {
   "cell_type": "code",
   "execution_count": 42,
   "metadata": {
    "colab": {},
    "colab_type": "code",
    "id": "M5tWTQmrTTl4"
   },
   "outputs": [],
   "source": [
    "# create Q_state_dict = {(x1,y1,x2,y2): [1,2,3....16]} where 1-16 represent the Q values \n",
    "# of each defender invader action combination\n",
    "\n",
    "Q_state_list = []\n",
    "for state in invader_defender.game_state_list:\n",
    "    Q_state = []\n",
    "    for defender_action in range(action_count):\n",
    "        for invader_action in range(action_count):\n",
    "            state_action_pair = tuple(list(state) + [defender_action, invader_action])\n",
    "            Q_state.append(Q[state_action_pair])\n",
    "    Q_state_list.append(Q_state)      \n",
    "    \n",
    "Q_state_dict = dict(zip(state_list, Q_state_list))"
   ]
  },
  {
   "cell_type": "markdown",
   "metadata": {
    "colab_type": "text",
    "id": "yu937gM1TTl8"
   },
   "source": [
    "### Invader Map "
   ]
  },
  {
   "cell_type": "code",
   "execution_count": 43,
   "metadata": {
    "colab": {},
    "colab_type": "code",
    "id": "sZwyFC5TTTl_"
   },
   "outputs": [
    {
     "data": {
      "image/png": "[encoded data removed]",
      "text/plain": [
       "<Figure size 432x288 with 2 Axes>"
      ]
     },
     "metadata": {
      "needs_background": "light"
     },
     "output_type": "display_data"
    }
   ],
   "source": [
    "# create a list of states that fixes the defender's starting position\n",
    "fixed_defender_state_list = []\n",
    "for invader_state in invader_defender.states:\n",
    "    fixed_defender_state = tuple([5, 0] + invader_state)\n",
    "    fixed_defender_state_list.append(fixed_defender_state)\n",
    "\n",
    "invader_map = np.zeros([6,6])\n",
    "for state in fixed_defender_state_list:\n",
    "    invader_map[state[2], state[3]] = max(Q_state_dict[state])*-1  # -1 for invaders perspective\n",
    "\n",
    "# if the defender is fixed at the bottom left corner, this heatmap shows the invader's rewards\n",
    "plt.imshow(invader_map, interpolation='nearest')\n",
    "plt.colorbar()\n",
    "plt.title('Q values from the Invader Perspective (Defender fixed at [5,0])')\n",
    "plt.show()"
   ]
  },
  {
   "cell_type": "markdown",
   "metadata": {
    "colab_type": "text",
    "id": "E0y-PwAeTTmB"
   },
   "source": [
    "### Defender Map "
   ]
  },
  {
   "cell_type": "code",
   "execution_count": 44,
   "metadata": {
    "colab": {
     "base_uri": "https://localhost:8080/",
     "height": 281
    },
    "colab_type": "code",
    "id": "w43Rss06TTmF",
    "outputId": "639aaeed-409a-4f4f-e1d1-c3fb4dda0498"
   },
   "outputs": [
    {
     "data": {
      "image/png": "[encoded data removed]",
      "text/plain": [
       "<Figure size 432x288 with 2 Axes>"
      ]
     },
     "metadata": {
      "needs_background": "light"
     },
     "output_type": "display_data"
    }
   ],
   "source": [
    "# create a list of states that fixes the invaders's starting position\n",
    "fixed_invader_state_list = []\n",
    "for defender_state in invader_defender.states:\n",
    "    fixed_invader_state = tuple(defender_state + [0, 0])\n",
    "    fixed_invader_state_list.append(fixed_invader_state)\n",
    "\n",
    "# create invader heatmap\n",
    "defender_map = np.zeros([6,6])\n",
    "for state in fixed_invader_state_list:\n",
    "    defender_map[state[0], state[1]] = max(Q_state_dict[state])\n",
    "\n",
    "# if invader is fixed at top left corner, this heatmap shows the defender's rewards\n",
    "plt.imshow(defender_map, interpolation='nearest')\n",
    "plt.colorbar()\n",
    "plt.title('Q values from the Defender Perspective (Invader fixed at [0,0])')\n",
    "plt.show()"
   ]
  },
  {
   "cell_type": "markdown",
   "metadata": {
    "colab_type": "text",
    "id": "yd6ZN96WTTmN"
   },
   "source": [
    "### Animate the Game "
   ]
  },
  {
   "cell_type": "code",
   "execution_count": 247,
   "metadata": {
    "colab": {
     "base_uri": "https://localhost:8080/",
     "height": 35
    },
    "colab_type": "code",
    "id": "Aa-XCu7bTTmN",
    "outputId": "36b5d7b8-42a2-4d54-d297-646cbdc15e76"
   },
   "outputs": [
    {
     "data": {
      "text/plain": [
       "'Defender Won'"
      ]
     },
     "execution_count": 247,
     "metadata": {},
     "output_type": "execute_result"
    }
   ],
   "source": [
    "# generate game trajectory\n",
    "game_trajectory, status, cumulated_reward, game_step= generate_trajectory([5,0],[1,3]) \n",
    "status"
   ]
  },
  {
   "cell_type": "code",
   "execution_count": 152,
   "metadata": {
    "colab": {
     "base_uri": "https://localhost:8080/",
     "height": 253
    },
    "colab_type": "code",
    "id": "1SnqjOa1TTmQ",
    "outputId": "31ea97f2-3b97-455d-849e-7f325557aa7d"
   },
   "outputs": [
    {
     "data": {
      "text/html": [
       "<div>\n",
       "<style scoped>\n",
       "    .dataframe tbody tr th:only-of-type {\n",
       "        vertical-align: middle;\n",
       "    }\n",
       "\n",
       "    .dataframe tbody tr th {\n",
       "        vertical-align: top;\n",
       "    }\n",
       "\n",
       "    .dataframe thead th {\n",
       "        text-align: right;\n",
       "    }\n",
       "</style>\n",
       "<table border=\"1\" class=\"dataframe\">\n",
       "  <thead>\n",
       "    <tr style=\"text-align: right;\">\n",
       "      <th></th>\n",
       "      <th>0</th>\n",
       "      <th>1</th>\n",
       "      <th>2</th>\n",
       "      <th>3</th>\n",
       "      <th>4</th>\n",
       "      <th>5</th>\n",
       "    </tr>\n",
       "  </thead>\n",
       "  <tbody>\n",
       "    <tr>\n",
       "      <th>0</th>\n",
       "      <td>0</td>\n",
       "      <td>0</td>\n",
       "      <td>0</td>\n",
       "      <td>0</td>\n",
       "      <td>0</td>\n",
       "      <td>0</td>\n",
       "    </tr>\n",
       "    <tr>\n",
       "      <th>1</th>\n",
       "      <td>0</td>\n",
       "      <td>0</td>\n",
       "      <td>0</td>\n",
       "      <td>0</td>\n",
       "      <td>DEF</td>\n",
       "      <td>INV</td>\n",
       "    </tr>\n",
       "    <tr>\n",
       "      <th>2</th>\n",
       "      <td>0</td>\n",
       "      <td>0</td>\n",
       "      <td>0</td>\n",
       "      <td>0</td>\n",
       "      <td>0</td>\n",
       "      <td>0</td>\n",
       "    </tr>\n",
       "    <tr>\n",
       "      <th>3</th>\n",
       "      <td>0</td>\n",
       "      <td>0</td>\n",
       "      <td>0</td>\n",
       "      <td>0</td>\n",
       "      <td>0</td>\n",
       "      <td>0</td>\n",
       "    </tr>\n",
       "    <tr>\n",
       "      <th>4</th>\n",
       "      <td>0</td>\n",
       "      <td>0</td>\n",
       "      <td>0</td>\n",
       "      <td>0</td>\n",
       "      <td>Ter.</td>\n",
       "      <td>0</td>\n",
       "    </tr>\n",
       "    <tr>\n",
       "      <th>5</th>\n",
       "      <td>0</td>\n",
       "      <td>0</td>\n",
       "      <td>0</td>\n",
       "      <td>0</td>\n",
       "      <td>0</td>\n",
       "      <td>0</td>\n",
       "    </tr>\n",
       "  </tbody>\n",
       "</table>\n",
       "</div>"
      ],
      "text/plain": [
       "   0  1  2  3     4    5\n",
       "0  0  0  0  0     0    0\n",
       "1  0  0  0  0   DEF  INV\n",
       "2  0  0  0  0     0    0\n",
       "3  0  0  0  0     0    0\n",
       "4  0  0  0  0  Ter.    0\n",
       "5  0  0  0  0     0    0"
      ]
     },
     "metadata": {},
     "output_type": "display_data"
    },
    {
     "data": {
      "text/plain": [
       "'Defender Won'"
      ]
     },
     "metadata": {},
     "output_type": "display_data"
    }
   ],
   "source": [
    "# define game dimensions\n",
    "columns=range(invader_defender.size)\n",
    "index = range(invader_defender.size)\n",
    "\n",
    "# animate the game\n",
    "for step in range(len(game_trajectory)):\n",
    "    game_table = pd.DataFrame(0, index = index, columns=columns)\n",
    "    game_table[4][4] = 'Ter.'\n",
    "    game_table[game_trajectory[step][1]][game_trajectory[step][0]] = 'DEF'\n",
    "    game_table[game_trajectory[step][3]][game_trajectory[step][2]] = 'INV'\n",
    "    clear_output(wait=True)\n",
    "    display(game_table)\n",
    "    time.sleep(0.3)\n",
    "    \n",
    "# print game status\n",
    "display(status)"
   ]
  },
  {
   "cell_type": "code",
   "execution_count": 47,
   "metadata": {},
   "outputs": [
    {
     "name": "stdout",
     "output_type": "stream",
     "text": [
      "Cumulated reward:  -130\n",
      "Game steps:  9\n"
     ]
    }
   ],
   "source": [
    "print(\"Cumulated reward: \", cumulated_reward)\n",
    "print(\"Game steps: \", game_step)"
   ]
  },
  {
   "cell_type": "markdown",
   "metadata": {},
   "source": [
    "### States Analysis"
   ]
  },
  {
   "cell_type": "code",
   "execution_count": 191,
   "metadata": {},
   "outputs": [],
   "source": [
    "state_winner = np.zeros([6,6])"
   ]
  },
  {
   "cell_type": "code",
   "execution_count": 278,
   "metadata": {},
   "outputs": [],
   "source": [
    "for state in invader_defender.states:\n",
    "    game_trajectory, status, cumulated_reward, game_step= generate_trajectory([5,0],state) \n",
    "    if status == 'Defender Won':\n",
    "        state_winner[state[0], state[1]] = 1\n",
    "    elif status == 'Invader Won':\n",
    "        state_winner[state[0], state[1]] = 0\n",
    "    else:\n",
    "        state_winner[state[0], state[1]] = -1"
   ]
  },
  {
   "cell_type": "code",
   "execution_count": 279,
   "metadata": {},
   "outputs": [
    {
     "data": {
      "text/plain": [
       "array([[1., 1., 1., 1., 0., 1.],\n",
       "       [1., 1., 1., 1., 0., 0.],\n",
       "       [1., 1., 0., 0., 0., 0.],\n",
       "       [1., 0., 0., 0., 0., 0.],\n",
       "       [1., 1., 0., 0., 0., 0.],\n",
       "       [1., 1., 0., 0., 0., 0.]])"
      ]
     },
     "execution_count": 279,
     "metadata": {},
     "output_type": "execute_result"
    }
   ],
   "source": [
    "state_winner"
   ]
  },
  {
   "cell_type": "code",
   "execution_count": 280,
   "metadata": {},
   "outputs": [
    {
     "data": {
      "image/png": "[encoded data removed]",
      "text/plain": [
       "<Figure size 432x288 with 1 Axes>"
      ]
     },
     "metadata": {
      "needs_background": "light"
     },
     "output_type": "display_data"
    }
   ],
   "source": [
    "plt.imshow(state_winner)\n",
    "plt.title('Winner of each State with Defender starting at [5,0]')\n",
    "plt.show()"
   ]
  },
  {
   "cell_type": "code",
   "execution_count": 356,
   "metadata": {},
   "outputs": [],
   "source": [
    "for state in invader_defender.states:\n",
    "    game_trajectory, status, cumulated_reward, game_step= generate_trajectory(state,[0,0]) \n",
    "    if status == 'Defender Won':\n",
    "        state_winner[state[0], state[1]] = 1\n",
    "    elif status == 'Invader Won':\n",
    "        state_winner[state[0], state[1]] = 0\n",
    "    else:\n",
    "        state_winner[state[0], state[1]] = -1"
   ]
  },
  {
   "cell_type": "code",
   "execution_count": 357,
   "metadata": {},
   "outputs": [
    {
     "data": {
      "text/plain": [
       "array([[1., 1., 1., 1., 1., 0.],\n",
       "       [1., 1., 1., 1., 1., 1.],\n",
       "       [1., 1., 1., 1., 1., 1.],\n",
       "       [1., 1., 1., 1., 1., 1.],\n",
       "       [1., 1., 1., 1., 1., 1.],\n",
       "       [1., 1., 1., 1., 1., 1.]])"
      ]
     },
     "execution_count": 357,
     "metadata": {},
     "output_type": "execute_result"
    }
   ],
   "source": [
    "state_winner"
   ]
  },
  {
   "cell_type": "code",
   "execution_count": 358,
   "metadata": {},
   "outputs": [
    {
     "data": {
      "image/png": "[encoded data removed]",
      "text/plain": [
       "<Figure size 432x288 with 1 Axes>"
      ]
     },
     "metadata": {
      "needs_background": "light"
     },
     "output_type": "display_data"
    }
   ],
   "source": [
    "plt.imshow(state_winner)\n",
    "plt.title('Winner of each State with Invader starting at [0,0]')\n",
    "plt.show()"
   ]
  },
  {
   "cell_type": "code",
   "execution_count": null,
   "metadata": {},
   "outputs": [],
   "source": []
  }
 ],
 "metadata": {
  "colab": {
   "collapsed_sections": [
    "w0LsojPFTTlo"
   ],
   "name": "minimaxq (1).ipynb",
   "provenance": []
  },
  "kernelspec": {
   "display_name": "Python 3",
   "language": "python",
   "name": "python3"
  },
  "language_info": {
   "codemirror_mode": {
    "name": "ipython",
    "version": 3
   },
   "file_extension": ".py",
   "mimetype": "text/x-python",
   "name": "python",
   "nbconvert_exporter": "python",
   "pygments_lexer": "ipython3",
   "version": "3.5.2"
  }
 },
 "nbformat": 4,
 "nbformat_minor": 1
}
