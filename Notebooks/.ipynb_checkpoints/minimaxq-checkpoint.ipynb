{
 "cells": [
  {
   "cell_type": "markdown",
   "metadata": {},
   "source": [
    "# Invader Defender "
   ]
  },
  {
   "cell_type": "code",
   "execution_count": 1,
   "metadata": {},
   "outputs": [],
   "source": [
    "import numpy as np\n",
    "import matplotlib.pyplot as plt\n",
    "from IPython.display import display, clear_output\n",
    "import pickle\n",
    "from scipy.optimize import linprog\n",
    "import pandas as pd\n",
    "import time\n",
    "import random\n",
    "\n",
    "# to remove warnings\n",
    "import warnings\n",
    "warnings.filterwarnings('ignore')"
   ]
  },
  {
   "cell_type": "code",
   "execution_count": 2,
   "metadata": {},
   "outputs": [],
   "source": [
    "actions = [[-1, 0], [0, 1], [1, 0], [0, -1]] #up, right, down, left = (clockwise from up) \n",
    "action_count = len(actions) \n",
    "gridSize = 6 \n",
    "state_count = gridSize*gridSize"
   ]
  },
  {
   "cell_type": "code",
   "execution_count": 3,
   "metadata": {},
   "outputs": [],
   "source": [
    "class Invader_Defender():\n",
    "    def __init__(self, gridSize):\n",
    "        self.valueMap = np.zeros((gridSize, gridSize))\n",
    "        self.states = [[i, j] for i in range(gridSize) for j in range(gridSize)]\n",
    "        self.size = gridSize\n",
    "        \n",
    "        # deterministic transition ?\n",
    "        self.transition_prob = 1 \n",
    "        \n",
    "        # initialize defender and invader states\n",
    "        self.new_state = [0, 0, 0, 0]\n",
    "        self.new_defender_state = [0, 0]\n",
    "        self.new_invader_state = [0, 0]\n",
    "        \n",
    "        # set territory state\n",
    "        self.territory_state = [4, 4]\n",
    "\n",
    "        # create a list of all possible states in the game\n",
    "        self.game_state_list = []\n",
    "        for defender_state in self.states:\n",
    "            for invader_state in self.states:\n",
    "                combined_states = tuple(defender_state + invader_state)\n",
    "                self.game_state_list.append(combined_states)\n",
    "        \n",
    "        # create 2 lists of states representing defender and invader victory\n",
    "        self.defender_won = []\n",
    "        self.invader_won = []\n",
    "        \n",
    "        # create states representing defender victory\n",
    "        for defender_state in self.states:\n",
    "            for invader_state in self.states:\n",
    "                distance = np.linalg.norm(np.array(defender_state) - np.array(invader_state))\n",
    "                # if the invader is not at territory and within the capture range of defender = defender won\n",
    "                if invader_state != self.territory_state and distance <= np.sqrt(2):\n",
    "                    combined_states = defender_state + invader_state\n",
    "                    self.defender_won.append(combined_states)\n",
    "           \n",
    "        # create states representing invader victory = anytime invader is at territory\n",
    "        for defender_state in self.states:               \n",
    "            combined_states = defender_state + self.territory_state\n",
    "            self.invader_won.append(combined_states)\n",
    "    \n",
    "    def possible_states(self):\n",
    "        \"\"\"\n",
    "        A function that returns a list of all possible states in the game\n",
    "        \"\"\"\n",
    "        return self.game_state_list\n",
    "    \n",
    "    def terminal_check(self, state):\n",
    "        \"\"\"\n",
    "        A function that checks whether the game is at a terminal state.\n",
    "        Terminal state happens when either the invader or defender has won.\n",
    "        \"\"\"\n",
    "        if state in self.defender_won:\n",
    "            status = \"Defender Won\"\n",
    "            terminal_check = True\n",
    "        elif state in self.invader_won:\n",
    "            status = \"Invader Won\"\n",
    "            terminal_check = True\n",
    "        else:\n",
    "            terminal_check = False\n",
    "            status = \"Game in Progress\"\n",
    "\n",
    "        return terminal_check, status\n",
    "    \n",
    "#     def transition_probability(self, transition):\n",
    "#         \"\"\"\n",
    "#         A function that returns the transition probability...?\n",
    "#         \"\"\"\n",
    "#         return self.transition_prob, reward\n",
    "\n",
    "    def next_state(self, current_state, defender_action, invader_action):\n",
    "        \"\"\"\n",
    "        A function that returns the next state\n",
    "        Input: current state [0,0] , defender_action [0, 1], invader_action [0,-1]\n",
    "        Output: next state array([x1,y1,x2,y2]) and reward (int)\n",
    "            - If the action takes the agent off grid, the agent remains in original state\n",
    "            - If defender won, reward is calculated based on manhattan distance between invader captured state\n",
    "            and territory\n",
    "            - If defender loss, reward is -100\n",
    "        \"\"\"\n",
    "        defender_state = []\n",
    "        invader_state = []\n",
    "        \n",
    "        # deconstruct current state [0,0,1,1] in to defender [0,0] and invader [1,1] state\n",
    "        for i in range(4):\n",
    "            if i < 2:\n",
    "                defender_state.append(current_state[i])\n",
    "            else:\n",
    "                invader_state.append(current_state[i])\n",
    "                \n",
    "        # get next state: state: [0, 0], action: [0, 1], new_state = [0, 1]\n",
    "        self.new_defender_state = list(np.array(defender_state) + np.array(defender_action))\n",
    "        self.new_invader_state = list(np.array(invader_state) + np.array(invader_action))\n",
    "\n",
    "        # if new defender states results in off the grid, return to original state\n",
    "        if -1 in self.new_defender_state or self.size in self.new_defender_state:\n",
    "            self.new_defender_state = defender_state\n",
    "        \n",
    "        # if new invader states results in off the grid, return to original state\n",
    "        if -1 in self.new_invader_state or self.size in self.new_invader_state:\n",
    "            self.new_invader_state = invader_state\n",
    "       \n",
    "        # combine the defender and invader state\n",
    "        self.new_state = self.new_defender_state\n",
    "        self.new_state.extend(self.new_invader_state)\n",
    "        \n",
    "#         # original rewards\n",
    "#         terminal, status = self.terminal_check(self.new_state)\n",
    "#         if terminal == True:\n",
    "#             if status == \"Defender Won\":\n",
    "#                 # defender reward if defender won (manhattan distance between invader captured state and territory)\n",
    "#                 distance_to_territory = sum(abs(np.array(self.new_invader_state) - np.array(self.territory_state)))\n",
    "#                 self.reward = distance_to_territory\n",
    "#             else:\n",
    "#                 # defender reward if invader won\n",
    "#                 self.reward = -100\n",
    "#         else:\n",
    "#             self.reward = 0\n",
    "            \n",
    "        # new rewards: penalizing defender for every step that invader takes closer to territory\n",
    "        terminal, status = self.terminal_check(self.new_state)\n",
    "        if terminal == True:\n",
    "            if status == \"Defender Won\":\n",
    "                # defender reward if defender won (manhattan distance between invader captured state and territory)\n",
    "                distance_to_territory = sum(abs(np.array(self.new_invader_state) - np.array(self.territory_state)))\n",
    "                self.reward = distance_to_territory\n",
    "            else:\n",
    "                # defender reward if invader won\n",
    "                self.reward = -100\n",
    "        else:\n",
    "            # penalize defender for every step that invader takes closer to territory\n",
    "            invader_to_territory = sum(abs(np.array(self.new_invader_state) - np.array(self.territory_state)))\n",
    "            reward_1 = -(8 - invader_to_territory)\n",
    "          \n",
    "            # give defender reward for every step it takes closer to invader\n",
    "            new_defender_state = [self.new_defender_state[0], self.new_defender_state[1]]\n",
    "            defender_to_invader = sum(abs(np.array(self.new_invader_state) - np.array(new_defender_state)))\n",
    "            reward_2 = (10 - defender_to_invader)\n",
    "            \n",
    "            self.reward = reward_1 + reward_2\n",
    "            \n",
    "#             self.reward = reward_1\n",
    "            \n",
    "        return self.new_state, self.reward"
   ]
  },
  {
   "cell_type": "markdown",
   "metadata": {},
   "source": [
    "## Initialization and Function Definitions"
   ]
  },
  {
   "cell_type": "code",
   "execution_count": 4,
   "metadata": {},
   "outputs": [],
   "source": [
    "invader_defender = Invader_Defender(6)"
   ]
  },
  {
   "cell_type": "code",
   "execution_count": 5,
   "metadata": {},
   "outputs": [],
   "source": [
    "state_list = []\n",
    "delta_list = []"
   ]
  },
  {
   "cell_type": "code",
   "execution_count": 6,
   "metadata": {},
   "outputs": [],
   "source": [
    "def calculate_value(G_state):\n",
    "    \"\"\"\n",
    "    A function that calculates the value of a game by using linear programming.\n",
    "    The value is calculated in both the defender and invader's perspective which are equal in value\n",
    "    and opposite in signs\n",
    "    Input: payoff matrix of a particular state (4x4 matrix)\n",
    "    Output: Value = scalar value of the game.\n",
    "    \"\"\"\n",
    "    \n",
    "    G_state = list(G_state)\n",
    "    \n",
    "    # defender lin prog\n",
    "    c = [0, 0, 0, 0, -1]\n",
    "    defender_q = -1*np.transpose(G_state)     \n",
    "    v_coeff = np.ones((4,1))\n",
    "    Aub = np.concatenate((defender_q,v_coeff),1)\n",
    "    b = [0, 0, 0, 0]\n",
    "    Aeq = [[1, 1, 1, 1, 0]]\n",
    "    beq = [[1.]]\n",
    "    bounds = ((0,1),(0,1),(0,1),(0,1),(None, None))\n",
    "    defender_solution = linprog(c, A_ub=Aub, b_ub=b, A_eq=Aeq, b_eq=beq, bounds=bounds, method='revised simplex')\n",
    "    \n",
    "    # invader lin prog\n",
    "    c = [0, 0, 0, 0, 1]\n",
    "    invader_q = G_state\n",
    "    w_coeff = np.ones((4,1))*-1\n",
    "    Aub = np.concatenate((invader_q,w_coeff),1)\n",
    "    invader_solution = linprog(c, A_ub=Aub, b_ub=b, A_eq=Aeq, b_eq=beq, bounds=bounds, method='revised simplex')\n",
    "        \n",
    "    # check if the linprog solution is successful or not\n",
    "    if defender_solution['status'] == 0:\n",
    "        value = defender_solution['fun']*-1\n",
    "    else:\n",
    "        value = invader_solution['fun']\n",
    "    \n",
    "    return value"
   ]
  },
  {
   "cell_type": "code",
   "execution_count": 7,
   "metadata": {},
   "outputs": [],
   "source": [
    "def calculate_payoff(state):\n",
    "    \"\"\"\n",
    "    A function calculates the payoff of a specific state based on Q values\n",
    "    Input: state (ie. [0,0,1,1])\n",
    "    Output: payoff = 4x4 matrix where each element represent the defender's payoff \n",
    "    when defender take i, and invader take action j\n",
    "    \"\"\"\n",
    "    state = list(state)\n",
    "    payoff = np.zeros([4,4])\n",
    "    for i in range(action_count):\n",
    "        defender_action = i\n",
    "        for j in range(action_count):\n",
    "            invader_action = j\n",
    "            joint_action = [defender_action, invader_action]\n",
    "            state_action_pair = tuple(state + joint_action)\n",
    "            payoff[i, j] = Q[state_action_pair]\n",
    "\n",
    "    return payoff"
   ]
  },
  {
   "cell_type": "code",
   "execution_count": 8,
   "metadata": {},
   "outputs": [],
   "source": [
    "def equilibrium(G_state):\n",
    "    \"\"\"\n",
    "    A function that obtains the policy for defender and invader\n",
    "    The value is calculated in both the defender and invader's perspective which are equal in value\n",
    "    and opposite in signs\n",
    "    Input: payoff matrix of a particular state (4x4 matrix)\n",
    "    Output: policy for defender and invader\n",
    "    \"\"\"\n",
    "    \n",
    "    # defender lin prog\n",
    "    c = [0, 0, 0, 0, -1]\n",
    "    defender_q = -1*np.transpose(G_state)     \n",
    "    v_coeff = np.ones((4,1))\n",
    "    Aub = np.concatenate((defender_q,v_coeff),1)\n",
    "    b = [0, 0, 0, 0]\n",
    "    Aeq = [[1, 1, 1, 1, 0]]\n",
    "    beq = [[1.]]\n",
    "    bounds = ((0,1),(0,1),(0,1),(0,1),(None, None))\n",
    "    defender_solution = linprog(c, A_ub=Aub, b_ub=b, A_eq=Aeq, b_eq=beq, bounds=bounds, method='revised simplex')\n",
    "    \n",
    "    # invader lin prog\n",
    "    c = [0, 0, 0, 0, 1]\n",
    "    invader_q = G_state\n",
    "    w_coeff = np.ones((4,1))*-1\n",
    "    Aub = np.concatenate((invader_q,w_coeff),1)\n",
    "    invader_solution = linprog(c, A_ub=Aub, b_ub=b, A_eq=Aeq, b_eq=beq, bounds=bounds, method='revised simplex')\n",
    "    \n",
    "    if defender_solution['status'] == 0:\n",
    "        defender_policy = defender_solution['x'][:4]\n",
    "    else:\n",
    "        defender_policy = np.array([0.25,0.25,0.25,0.25])\n",
    "    \n",
    "    if invader_solution['status'] == 0:\n",
    "        invader_policy = invader_solution['x'][:4]\n",
    "    else:\n",
    "        invader_policy = np.array([0.25,0.25,0.25,0.25])\n",
    "\n",
    "    return defender_policy, invader_policy"
   ]
  },
  {
   "cell_type": "code",
   "execution_count": 9,
   "metadata": {},
   "outputs": [],
   "source": [
    "def choose_action(defender_policy, invader_policy, epsilon):\n",
    "    \"\"\"\n",
    "    A function that choose a joint epsilon-greedy action based on defender/invader policy\n",
    "    Input: defender_policy (1x4), invader policy (1x4), and epsilon (ie. 0.3)\n",
    "    Output: joint action index = [defender action index, invader action index] = [0 to 3, 0 to 3]\n",
    "    \"\"\"\n",
    "       \n",
    "    # choose an action type: explore (0) or exploit(1)\n",
    "    action_type = int(np.random.choice(2, 1, p=[epsilon,1-epsilon]))\n",
    "    \n",
    "    # pick the best action\n",
    "    best_defender_action_index = np.argmax(defender_policy)\n",
    "    best_invader_action_index = np.argmax(invader_policy)\n",
    "    \n",
    "    if action_type == 0:\n",
    "        \n",
    "        # randomly pick an action\n",
    "        random_defender_action_index = random.choice(range(4))    \n",
    "        random_invader_action_index = random.choice(range(4))    \n",
    "\n",
    "        # while random action is the same as the best action, pick a new action\n",
    "        while random_defender_action_index == best_defender_action_index:\n",
    "            random_defender_action_index = random.choice(range(4))\n",
    "        defender_action_index = random_defender_action_index\n",
    "        \n",
    "        # while random action is the same as the best action, pick a new action\n",
    "        while random_invader_action_index == best_invader_action_index:\n",
    "            random_invader_action_index = random.choice(range(4))\n",
    "        invader_action_index = random_invader_action_index\n",
    "    \n",
    "    else:\n",
    "        defender_action_index = best_defender_action_index\n",
    "        invader_action_index = best_invader_action_index\n",
    "    \n",
    "    joint_action = [defender_action_index, invader_action_index]\n",
    "    \n",
    "    return joint_action"
   ]
  },
  {
   "cell_type": "code",
   "execution_count": 10,
   "metadata": {},
   "outputs": [],
   "source": [
    "# generate initial states randomly\n",
    "def generate_random_initial_states(a):\n",
    "    random_initial_states = []\n",
    "    for i in range(a):\n",
    "        random_number = random.randint(0,5)\n",
    "        random_initial_states.append(random_number)\n",
    "    return tuple(random_initial_states)"
   ]
  },
  {
   "cell_type": "markdown",
   "metadata": {},
   "source": [
    "## Minimax Q"
   ]
  },
  {
   "cell_type": "markdown",
   "metadata": {},
   "source": [
    "### Initialization "
   ]
  },
  {
   "cell_type": "code",
   "execution_count": 11,
   "metadata": {},
   "outputs": [],
   "source": [
    "# initialize params\n",
    "t = 0\n",
    "T = 200\n",
    "lr = 0.9\n",
    "gamma = 0.95\n",
    "epsilon = 0.99"
   ]
  },
  {
   "cell_type": "code",
   "execution_count": 12,
   "metadata": {},
   "outputs": [],
   "source": [
    "# initialize Q matrix\n",
    "state_action_pair_list = []\n",
    "\n",
    "# create every possible state action pairs: \n",
    "# 1296 states * 4 defender actions * 4 invader actions = 20736 s,a pairs\n",
    "for state in invader_defender.game_state_list:\n",
    "    for defender_action in range(action_count):\n",
    "        for invader_action in range(action_count):\n",
    "            joint_action = [defender_action, invader_action]\n",
    "            state_action_pair = list(state) + joint_action\n",
    "            state_action_pair_list.append(tuple(state_action_pair))"
   ]
  },
  {
   "cell_type": "code",
   "execution_count": 13,
   "metadata": {},
   "outputs": [],
   "source": [
    "# initialize a dictionary for Q values = {(x1, y1, x2, y2, defender_action_index, invader_action_index): q_value}\n",
    "listofzeros = [0.0] * len(state_action_pair_list)\n",
    "Q = dict(zip(state_action_pair_list, listofzeros))\n",
    "\n",
    "# initialize a dictionary for G values = {(x1, y1, x2, y2): payoff_matrix}\n",
    "listofzeros = [0.0] * len(invader_defender.game_state_list)\n",
    "for state in invader_defender.game_state_list:\n",
    "    state_list.append(state)\n",
    "G = dict(zip(state_list, listofzeros))\n",
    "\n",
    "# initialize policies\n",
    "initial_policy = []\n",
    "defender_policy = {}\n",
    "invader_policy = {}\n",
    "for i in range(len(invader_defender.game_state_list)):\n",
    "    random_policy = np.array([0.25, 0.25, 0.25, 0.25])\n",
    "    initial_policy.append(random_policy)\n",
    "defender_policy = dict(zip(state_list, initial_policy))\n",
    "invader_policy = dict(zip(state_list, initial_policy))"
   ]
  },
  {
   "cell_type": "markdown",
   "metadata": {},
   "source": [
    "### Algorithm Starts "
   ]
  },
  {
   "cell_type": "code",
   "execution_count": 14,
   "metadata": {},
   "outputs": [],
   "source": [
    "# initialize states\n",
    "defender_state = [5,0]\n",
    "invader_state = [0,0]\n",
    "current_state = tuple(defender_state + invader_state)"
   ]
  },
  {
   "cell_type": "code",
   "execution_count": 15,
   "metadata": {},
   "outputs": [
    {
     "data": {
      "text/plain": [
       "array([[0., 0., 0., 0.],\n",
       "       [0., 0., 0., 0.],\n",
       "       [0., 0., 0., 0.],\n",
       "       [0., 0., 0., 0.]])"
      ]
     },
     "execution_count": 15,
     "metadata": {},
     "output_type": "execute_result"
    }
   ],
   "source": [
    "# build game based on Q value\n",
    "G[current_state] = calculate_payoff(current_state)\n",
    "G[current_state]"
   ]
  },
  {
   "cell_type": "code",
   "execution_count": 16,
   "metadata": {},
   "outputs": [
    {
     "data": {
      "text/plain": [
       "(array([1., 0., 0., 0.]), array([1., 0., 0., 0.]))"
      ]
     },
     "execution_count": 16,
     "metadata": {},
     "output_type": "execute_result"
    }
   ],
   "source": [
    "# choose a policy by solving the current game\n",
    "defender_policy[current_state], invader_policy[current_state] = equilibrium(G[current_state])\n",
    "equilibrium(G[current_state])"
   ]
  },
  {
   "cell_type": "code",
   "execution_count": 17,
   "metadata": {},
   "outputs": [
    {
     "data": {
      "text/plain": [
       "'episode: 4999 delta: 0.2718755832301971 lr: 0.5458639460622982'"
      ]
     },
     "metadata": {},
     "output_type": "display_data"
    }
   ],
   "source": [
    "# trajectory = []\n",
    "episodes = 5000\n",
    "eps = 0\n",
    "unique_counter = 0\n",
    "tolerance = 1\n",
    "delta_list = []\n",
    "delta = 2\n",
    "\n",
    "for eps in range(episodes):\n",
    "    t = 0\n",
    "    delta = 0\n",
    "    while t < T:\n",
    "\n",
    "        # choose a joint based on epsilon greedy (joint_action = [a1_indx, a2_indx])\n",
    "        joint_action = choose_action(defender_policy[current_state], invader_policy[current_state], epsilon)\n",
    "        current_state_action_pair = tuple(list(current_state) + joint_action) # ie. (x1, y1, x2, y2, a1_indx, a2_indx)\n",
    "\n",
    "        # get next state and reward based on current state [x1,y1,x2,y2] and joint action [a1_indx, a2_indx]\n",
    "        next_state, reward = invader_defender.next_state(current_state, actions[joint_action[0]], actions[joint_action[1]])\n",
    "        next_state = tuple(next_state)\n",
    "        \n",
    "        # if game reached terminal state, restart new episode with random initial states\n",
    "        terminal, status = invader_defender.terminal_check(list(next_state))\n",
    "        if terminal:\n",
    "            defender_state = [5,0]\n",
    "            invader_state = [0,0]\n",
    "            current_state = tuple(defender_state + invader_state)\n",
    "            break\n",
    "        \n",
    "        # build a game based on next state: calculate payoff of next state\n",
    "        G[next_state] = calculate_payoff(next_state)\n",
    "\n",
    "        # generate a policy based on equilibirum of next game\n",
    "        defender_policy[next_state], invader_policy[next_state] = equilibrium(G[next_state])\n",
    "\n",
    "        # make copy of Q table\n",
    "        Q_copy = Q[current_state_action_pair]\n",
    "\n",
    "        # update Q[s,a] <- Q[s,a] + lr*(reward + gamma*value(s') - Q[s,a])\n",
    "        value = calculate_value(G[next_state])\n",
    "        Q[current_state_action_pair] = Q[current_state_action_pair] + lr*(reward + gamma*value - Q[current_state_action_pair])\n",
    "       \n",
    "        # calculate delta\n",
    "        delta = max(delta, abs(Q[current_state_action_pair] - Q_copy))\n",
    "                \n",
    "        # set next state as current state\n",
    "        current_state = next_state\n",
    "        t+=1\n",
    "    \n",
    "    lr = lr*0.9999\n",
    "\n",
    "#     print k and current max delta\n",
    "    clear_output(wait=True)\n",
    "    display('episode: ' + str(eps) + ' delta: ' + str(delta) + ' lr: ' + str(lr))\n",
    "    delta_list.append(delta)\n"
   ]
  },
  {
   "cell_type": "code",
   "execution_count": 38,
   "metadata": {},
   "outputs": [
    {
     "data": {
      "image/png": "[encoded data removed]",
      "text/plain": [
       "<Figure size 432x288 with 1 Axes>"
      ]
     },
     "metadata": {
      "needs_background": "light"
     },
     "output_type": "display_data"
    }
   ],
   "source": [
    "plt.plot(delta_list)\n",
    "plt.title('Q Delta with Epsilon: ' + str(epsilon))\n",
    "plt.xlabel('Episode')\n",
    "plt.ylabel('Delta')\n",
    "\n",
    "# plot moving average\n",
    "reward_frame = pd.DataFrame(delta_list)\n",
    "rolling_mean = reward_frame.rolling(window=100).mean()\n",
    "plt.plot(rolling_mean, label='Moving Average', color='orange')\n",
    "plt.legend()\n",
    "plt.show()"
   ]
  },
  {
   "cell_type": "code",
   "execution_count": 19,
   "metadata": {},
   "outputs": [],
   "source": [
    "# policy extraction\n",
    "for state in invader_defender.game_state_list:    \n",
    "    G[state] = calculate_payoff(state)\n",
    "    defender_policy[state], invader_policy[state] = equilibrium(G[state])"
   ]
  },
  {
   "cell_type": "code",
   "execution_count": 20,
   "metadata": {},
   "outputs": [
    {
     "data": {
      "text/plain": [
       "array([0.        , 0.98781088, 0.01218912, 0.        ])"
      ]
     },
     "execution_count": 20,
     "metadata": {},
     "output_type": "execute_result"
    }
   ],
   "source": [
    "defender_policy[(5,0,0,0)]"
   ]
  },
  {
   "cell_type": "code",
   "execution_count": 21,
   "metadata": {},
   "outputs": [
    {
     "data": {
      "text/plain": [
       "array([0.15924861, 0.84075139, 0.        , 0.        ])"
      ]
     },
     "execution_count": 21,
     "metadata": {},
     "output_type": "execute_result"
    }
   ],
   "source": [
    "invader_policy[(5,0,0,0)]"
   ]
  },
  {
   "cell_type": "code",
   "execution_count": 22,
   "metadata": {},
   "outputs": [
    {
     "data": {
      "text/plain": [
       "array([1., 0., 0., 0.])"
      ]
     },
     "execution_count": 22,
     "metadata": {},
     "output_type": "execute_result"
    }
   ],
   "source": [
    "defender_policy[(5,0,1,2)]"
   ]
  },
  {
   "cell_type": "code",
   "execution_count": 23,
   "metadata": {},
   "outputs": [
    {
     "data": {
      "text/plain": [
       "array([0., 1., 0., 0.])"
      ]
     },
     "execution_count": 23,
     "metadata": {},
     "output_type": "execute_result"
    }
   ],
   "source": [
    "invader_policy[(5,0,1,2)]"
   ]
  },
  {
   "cell_type": "markdown",
   "metadata": {},
   "source": [
    "### Save Results to Pickle "
   ]
  },
  {
   "cell_type": "code",
   "execution_count": 39,
   "metadata": {},
   "outputs": [],
   "source": [
    "with open('Q_minimax.pickle', 'wb') as handle:\n",
    "    pickle.dump(Q, handle)\n",
    "\n",
    "with open('G_minimax.pickle', 'wb') as handle:\n",
    "    pickle.dump(G, handle)"
   ]
  },
  {
   "cell_type": "markdown",
   "metadata": {},
   "source": [
    "## Load from Pickle and Extract Policy "
   ]
  },
  {
   "cell_type": "code",
   "execution_count": 14,
   "metadata": {},
   "outputs": [],
   "source": [
    "# # uncomment to load U and G\n",
    "# with open ('Q_minimax.pickle', 'rb') as handle:\n",
    "#     Q = pickle.load(handle)\n",
    "    \n",
    "# with open ('G_minimax.pickle', 'rb') as handle:\n",
    "#     G = pickle.load(handle)"
   ]
  },
  {
   "cell_type": "code",
   "execution_count": 15,
   "metadata": {},
   "outputs": [],
   "source": [
    "# # initialize policies\n",
    "# initial_policy = []\n",
    "# defender_policy = {}\n",
    "# invader_policy = {}\n",
    "# for i in range(len(invader_defender.game_state_list)):\n",
    "#     random_policy = np.array([0.25, 0.25, 0.25, 0.25])\n",
    "#     initial_policy.append(random_policy)\n",
    "# defender_policy = dict(zip(state_list, initial_policy))\n",
    "# invader_policy = dict(zip(state_list, initial_policy))\n",
    "\n",
    "# # policy extraction\n",
    "# for state in invader_defender.game_state_list:    \n",
    "#     G[state] = calculate_payoff(state)\n",
    "#     defender_policy[state], invader_policy[state] = equilibrium(G[state])"
   ]
  },
  {
   "cell_type": "code",
   "execution_count": 16,
   "metadata": {},
   "outputs": [
    {
     "data": {
      "text/plain": [
       "array([0.        , 0.98781088, 0.01218912, 0.        ])"
      ]
     },
     "execution_count": 16,
     "metadata": {},
     "output_type": "execute_result"
    }
   ],
   "source": [
    "# defender_policy[(5,0,0,0)]"
   ]
  },
  {
   "cell_type": "code",
   "execution_count": 17,
   "metadata": {},
   "outputs": [
    {
     "data": {
      "text/plain": [
       "array([0.15924861, 0.84075139, 0.        , 0.        ])"
      ]
     },
     "execution_count": 17,
     "metadata": {},
     "output_type": "execute_result"
    }
   ],
   "source": [
    "# invader_policy[(5,0,0,0)]"
   ]
  },
  {
   "cell_type": "markdown",
   "metadata": {},
   "source": [
    "## Heatmap"
   ]
  },
  {
   "cell_type": "code",
   "execution_count": 19,
   "metadata": {},
   "outputs": [],
   "source": [
    "# create Q list\n",
    "\n",
    "Q_state_list = []\n",
    "\n",
    "for state in invader_defender.game_state_list:\n",
    "    Q_state = []\n",
    "    for defender_action in range(action_count):\n",
    "        for invader_action in range(action_count):\n",
    "            state_action_pair = tuple(list(state) + [defender_action, invader_action])\n",
    "#             print(state_action_pair)\n",
    "            Q_state.append(Q[state_action_pair])\n",
    "    Q_state_list.append(Q_state)        "
   ]
  },
  {
   "cell_type": "code",
   "execution_count": 20,
   "metadata": {},
   "outputs": [],
   "source": [
    "Q_state_dict = dict(zip(state_list, Q_state_list))"
   ]
  },
  {
   "cell_type": "markdown",
   "metadata": {},
   "source": [
    "### Invader Map "
   ]
  },
  {
   "cell_type": "code",
   "execution_count": 21,
   "metadata": {},
   "outputs": [],
   "source": [
    "# create a list of states that fixes the defender's starting position\n",
    "fixed_defender_state_list = []\n",
    "for invader_state in invader_defender.states:\n",
    "    fixed_defender_state = tuple([5, 0] + invader_state)\n",
    "    fixed_defender_state_list.append(fixed_defender_state)"
   ]
  },
  {
   "cell_type": "code",
   "execution_count": 22,
   "metadata": {},
   "outputs": [],
   "source": [
    "invader_map = np.zeros([6,6])\n",
    "for state in fixed_defender_state_list:\n",
    "    invader_map[state[2], state[3]] = max(Q_state_dict[state]) # -1 for invaders perspective"
   ]
  },
  {
   "cell_type": "code",
   "execution_count": 23,
   "metadata": {},
   "outputs": [
    {
     "data": {
      "image/png": "[encoded data removed]",
      "text/plain": [
       "<Figure size 432x288 with 2 Axes>"
      ]
     },
     "metadata": {
      "needs_background": "light"
     },
     "output_type": "display_data"
    }
   ],
   "source": [
    "# if the defender is fixed at the bottom left corner, this heatmap shows the invader's rewards\n",
    "plt.imshow(invader_map, interpolation='nearest')\n",
    "plt.colorbar()\n",
    "plt.title('Value Function from the Invader Perspective (Defender fixed at [5,0])')\n",
    "plt.show()"
   ]
  },
  {
   "cell_type": "markdown",
   "metadata": {},
   "source": [
    "### Defender Map "
   ]
  },
  {
   "cell_type": "code",
   "execution_count": 24,
   "metadata": {},
   "outputs": [],
   "source": [
    "# create a list of states that fixes the invaders's starting position\n",
    "fixed_invader_state_list = []\n",
    "for defender_state in invader_defender.states:\n",
    "    fixed_invader_state = tuple(defender_state + [0, 0])\n",
    "    fixed_invader_state_list.append(fixed_invader_state)"
   ]
  },
  {
   "cell_type": "code",
   "execution_count": 25,
   "metadata": {},
   "outputs": [],
   "source": [
    "# create invader heatmap\n",
    "defender_map = np.zeros([6,6])\n",
    "for state in fixed_invader_state_list:\n",
    "    defender_map[state[0], state[1]] = max(Q_state_dict[state])"
   ]
  },
  {
   "cell_type": "code",
   "execution_count": 26,
   "metadata": {},
   "outputs": [
    {
     "data": {
      "image/png": "[encoded data removed]",
      "text/plain": [
       "<Figure size 432x288 with 2 Axes>"
      ]
     },
     "metadata": {
      "needs_background": "light"
     },
     "output_type": "display_data"
    }
   ],
   "source": [
    "# if invader is fixed at top left corner, this heatmap shows the defender's rewards\n",
    "plt.imshow(defender_map, interpolation='nearest')\n",
    "plt.colorbar()\n",
    "plt.title('Value Function from the Defender Perspective (Invader fixed at [0,0])')\n",
    "plt.show()"
   ]
  },
  {
   "cell_type": "markdown",
   "metadata": {},
   "source": [
    "## Play a Game"
   ]
  },
  {
   "cell_type": "code",
   "execution_count": 27,
   "metadata": {},
   "outputs": [],
   "source": [
    "def generate_trajectory(Defender_state, Invader_state):\n",
    "    game_trajectory = []\n",
    "    terminal = False\n",
    "    current_state = tuple(Defender_state + Invader_state)\n",
    "    generated = False\n",
    "    \n",
    "    while not generated:\n",
    "        game_step = 0\n",
    "        # generate a game trajectory\n",
    "        while not terminal:\n",
    "            \n",
    "            generated = True\n",
    "            \n",
    "            # append game trajectory\n",
    "            game_trajectory.append(current_state)\n",
    "\n",
    "            # check if game is terminal (someone won)\n",
    "            terminal, status = invader_defender.terminal_check(list(current_state))\n",
    "\n",
    "            # both agents choose action based on policy via sampling\n",
    "            invader_action = actions[int(np.random.choice(action_count, 1, p=invader_policy[tuple(current_state)]))]\n",
    "            defender_action = actions[int(np.random.choice(action_count, 1, p=defender_policy[tuple(current_state)]))]\n",
    "\n",
    "            # obtain next state\n",
    "            next_state, reward = invader_defender.next_state(list(current_state), defender_action, invader_action)\n",
    "            current_state = tuple(next_state)\n",
    "\n",
    "            game_step += 1\n",
    "            clear_output(wait=True)\n",
    "            display(\"game step: \" + str(game_step))\n",
    "            \n",
    "            # exit the game if the game steps increase pass 100 (implying agents are stuck)\n",
    "            if game_step > 100:\n",
    "                generated = False\n",
    "                break\n",
    "        \n",
    "    \n",
    "    return game_trajectory, status"
   ]
  },
  {
   "cell_type": "markdown",
   "metadata": {},
   "source": [
    "### Animate the Game "
   ]
  },
  {
   "cell_type": "code",
   "execution_count": 28,
   "metadata": {},
   "outputs": [
    {
     "data": {
      "text/plain": [
       "'game step: 6'"
      ]
     },
     "metadata": {},
     "output_type": "display_data"
    }
   ],
   "source": [
    "# generate game trajectory\n",
    "game_trajectory, status = generate_trajectory([5,0],[0,0]) "
   ]
  },
  {
   "cell_type": "code",
   "execution_count": 29,
   "metadata": {},
   "outputs": [
    {
     "data": {
      "text/html": [
       "<div>\n",
       "<style scoped>\n",
       "    .dataframe tbody tr th:only-of-type {\n",
       "        vertical-align: middle;\n",
       "    }\n",
       "\n",
       "    .dataframe tbody tr th {\n",
       "        vertical-align: top;\n",
       "    }\n",
       "\n",
       "    .dataframe thead th {\n",
       "        text-align: right;\n",
       "    }\n",
       "</style>\n",
       "<table border=\"1\" class=\"dataframe\">\n",
       "  <thead>\n",
       "    <tr style=\"text-align: right;\">\n",
       "      <th></th>\n",
       "      <th>0</th>\n",
       "      <th>1</th>\n",
       "      <th>2</th>\n",
       "      <th>3</th>\n",
       "      <th>4</th>\n",
       "      <th>5</th>\n",
       "    </tr>\n",
       "  </thead>\n",
       "  <tbody>\n",
       "    <tr>\n",
       "      <th>0</th>\n",
       "      <td>0</td>\n",
       "      <td>0</td>\n",
       "      <td>INV</td>\n",
       "      <td>0</td>\n",
       "      <td>0</td>\n",
       "      <td>0</td>\n",
       "    </tr>\n",
       "    <tr>\n",
       "      <th>1</th>\n",
       "      <td>0</td>\n",
       "      <td>DEF</td>\n",
       "      <td>0</td>\n",
       "      <td>0</td>\n",
       "      <td>0</td>\n",
       "      <td>0</td>\n",
       "    </tr>\n",
       "    <tr>\n",
       "      <th>2</th>\n",
       "      <td>0</td>\n",
       "      <td>0</td>\n",
       "      <td>0</td>\n",
       "      <td>0</td>\n",
       "      <td>0</td>\n",
       "      <td>0</td>\n",
       "    </tr>\n",
       "    <tr>\n",
       "      <th>3</th>\n",
       "      <td>0</td>\n",
       "      <td>0</td>\n",
       "      <td>0</td>\n",
       "      <td>0</td>\n",
       "      <td>0</td>\n",
       "      <td>0</td>\n",
       "    </tr>\n",
       "    <tr>\n",
       "      <th>4</th>\n",
       "      <td>0</td>\n",
       "      <td>0</td>\n",
       "      <td>0</td>\n",
       "      <td>0</td>\n",
       "      <td>Ter.</td>\n",
       "      <td>0</td>\n",
       "    </tr>\n",
       "    <tr>\n",
       "      <th>5</th>\n",
       "      <td>0</td>\n",
       "      <td>0</td>\n",
       "      <td>0</td>\n",
       "      <td>0</td>\n",
       "      <td>0</td>\n",
       "      <td>0</td>\n",
       "    </tr>\n",
       "  </tbody>\n",
       "</table>\n",
       "</div>"
      ],
      "text/plain": [
       "   0    1    2  3     4  5\n",
       "0  0    0  INV  0     0  0\n",
       "1  0  DEF    0  0     0  0\n",
       "2  0    0    0  0     0  0\n",
       "3  0    0    0  0     0  0\n",
       "4  0    0    0  0  Ter.  0\n",
       "5  0    0    0  0     0  0"
      ]
     },
     "metadata": {},
     "output_type": "display_data"
    },
    {
     "data": {
      "text/plain": [
       "'Defender Won'"
      ]
     },
     "metadata": {},
     "output_type": "display_data"
    }
   ],
   "source": [
    "# define game dimensions\n",
    "columns=range(invader_defender.size)\n",
    "index = range(invader_defender.size)\n",
    "\n",
    "# animate the game\n",
    "for step in range(len(game_trajectory)):\n",
    "    game_table = pd.DataFrame(0, index = index, columns=columns)\n",
    "    game_table[4][4] = 'Ter.'\n",
    "    game_table[game_trajectory[step][1]][game_trajectory[step][0]] = 'DEF'\n",
    "    game_table[game_trajectory[step][3]][game_trajectory[step][2]] = 'INV'\n",
    "    clear_output(wait=True)\n",
    "    display(game_table)\n",
    "    time.sleep(0.2)\n",
    "    \n",
    "# print game status\n",
    "display(status)"
   ]
  },
  {
   "cell_type": "code",
   "execution_count": null,
   "metadata": {},
   "outputs": [],
   "source": []
  }
 ],
 "metadata": {
  "kernelspec": {
   "display_name": "Python 3",
   "language": "python",
   "name": "python3"
  },
  "language_info": {
   "codemirror_mode": {
    "name": "ipython",
    "version": 3
   },
   "file_extension": ".py",
   "mimetype": "text/x-python",
   "name": "python",
   "nbconvert_exporter": "python",
   "pygments_lexer": "ipython3",
   "version": "3.5.2"
  }
 },
 "nbformat": 4,
 "nbformat_minor": 4
}
